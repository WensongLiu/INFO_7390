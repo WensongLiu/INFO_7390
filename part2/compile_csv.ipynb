{
 "cells": [
  {
   "cell_type": "code",
   "execution_count": 3,
   "metadata": {},
   "outputs": [],
   "source": [
    "    # create a csv file to save all 12 months' processed data in a specific year\n",
    "    data_path = \"./\"+year+\".csv\"\n",
    "    with open(data_path,'wb') as f:\n",
    "        csv_write = csv.writer(f)\n",
    "        \n",
    "    list_month = ['01','02','03','04','05','06','07','08','09','10','11','12']\n",
    "    for month in list_month:\n",
    "        table = pds.read_csv('log'+year+month+'01.csv',low_memory=False)\n",
    "        table_copy = table.copy(True)\n",
    "        table_copy = replaceAll_outlier_withNaN(table_copy)\n",
    "        table_copy = drop_replace_nan(table_copy)\n",
    "        del table_copy['date','time']\n",
    "        table_copy.to_csv(data_path,mode='a',index = False, header = True)\n",
    "        "
   ]
  },
  {
   "cell_type": "code",
   "execution_count": null,
   "metadata": {},
   "outputs": [],
   "source": []
  }
 ],
 "metadata": {
  "kernelspec": {
   "display_name": "Python 3",
   "language": "python",
   "name": "python3"
  },
  "language_info": {
   "codemirror_mode": {
    "name": "ipython",
    "version": 3
   },
   "file_extension": ".py",
   "mimetype": "text/x-python",
   "name": "python",
   "nbconvert_exporter": "python",
   "pygments_lexer": "ipython3",
   "version": "3.6.5"
  }
 },
 "nbformat": 4,
 "nbformat_minor": 2
}
