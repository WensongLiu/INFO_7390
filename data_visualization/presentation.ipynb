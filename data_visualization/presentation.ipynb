{
 "cells": [
  {
   "cell_type": "markdown",
   "metadata": {},
   "source": [
    "\n",
    "                                          EDA Exercise                         \n",
    "\n",
    "As international students, we’re all concerned about the security situation of a new environment and we want to get more details about the crime rate in the United States, so we choose to use FBI crime data from Springboard as our dataset to reach a clear understanding. This dataset provide 2 tables, table 1 is the data of crime in United States by volume and rate per 100,000 inhabitants from 1997 to 2016, table 2 is the data of crime in United States as well but it’s by region and state from 2015 to 2016, let’s begin with table 1 and get an overview first!\n"
   ]
  },
  {
   "cell_type": "markdown",
   "metadata": {},
   "source": [
    "Data Extraction\n",
    "\n",
    "Our first task is to extract data from table 1. \n",
    "Although there is just one table with small data size, we can copy this table to Excel or something like that directly, but we choose a different way to do that, we use code below to complete this task automatically:\n"
   ]
  },
  {
   "cell_type": "markdown",
   "metadata": {},
   "source": [
    "https://github.com/SummerShoohaw/INFO_7390_Fall/blob/master/data_visualization/EDA_Exercise.py"
   ]
  },
  {
   "cell_type": "markdown",
   "metadata": {
    "colab_type": "text",
    "id": "view-in-github"
   },
   "source": [
    "[View in Colaboratory](https://colab.research.google.com/github/SummerShoohaw/INFO_7390_Fall/blob/master/presentation.ipynb)"
   ]
  },
  {
   "cell_type": "markdown",
   "metadata": {
    "colab_type": "text",
    "id": "7Q5Y73i5huS1"
   },
   "source": [
    "Once we have a clean dataset, we can analyze and visualize the data through python. There are several ways to accomplish the task. Here we are using pandas and matplotlib to do this.\n",
    "\n",
    "\n",
    "pandas is an open source, BSD-licensed library providing high-performance, easy-to-use data structures and data analysis tools for the Python programming language.\n",
    "\n",
    "\n",
    "Matplotlib is a Python 2D plotting library which produces publication quality figures in a variety of hardcopy formats and interactive environments across platforms. Matplotlib can be used in Python scripts, the Python and IPython shells, the Jupyter notebook, web application servers, and four graphical user interface toolkits."
   ]
  },
  {
   "cell_type": "markdown",
   "metadata": {
    "colab_type": "text",
    "id": "ykhvXVk8Z-Kr"
   },
   "source": [
    "### **1. Import and read data**"
   ]
  },
  {
   "cell_type": "code",
   "execution_count": 0,
   "metadata": {
    "colab": {},
    "colab_type": "code",
    "id": "OaGcsxojVj4V"
   },
   "outputs": [],
   "source": [
    "import pandas as pd\n",
    "import matplotlib.pyplot as plt\n",
    "from collections import Counter\n",
    "import numpy as np\n",
    "import matplotlib.patches as mpatches\n",
    "\n",
    "\n",
    "# c = open(\"data1.csv\",\"r\")\n",
    "# read = csv.reader(c)\n",
    "crimeData = pd.read_csv(\"./data.csv\")\n",
    "# for line in read: \n",
    "#     for s in line: \n",
    "#         print(s+',') \n",
    "# c.close()"
   ]
  },
  {
   "cell_type": "markdown",
   "metadata": {
    "colab_type": "text",
    "id": "lIXzq1PXaESE"
   },
   "source": [
    "### 2. Simple line chart can be drawn **easily**"
   ]
  },
  {
   "cell_type": "code",
   "execution_count": 0,
   "metadata": {
    "colab": {},
    "colab_type": "code",
    "id": "puX-xBCNVm9U"
   },
   "outputs": [],
   "source": [
    "# create a line chart, years on x-axis, gdp on y-axis\n",
    "plt.plot(crimeData['Year'], crimeData['Violent crime'], color='green', marker='o', linestyle='solid')\n",
    "\n",
    "# add a title\n",
    "plt.title(\"Crime Trend\")\n",
    "\n",
    "# add a label to the y-axis\n",
    "plt.ylabel(\"crime cases numbers\")\n",
    "plt.show()"
   ]
  },
  {
   "cell_type": "code",
   "execution_count": 0,
   "metadata": {
    "colab": {},
    "colab_type": "code",
    "id": "xL9mmQHfXvyt"
   },
   "outputs": [],
   "source": [
    "def linechart(plt,a,b):\n",
    "    list1 = a\n",
    "    list2 = b\n",
    "    # create a line chart, years on x-axis, gdp on y-axis\n",
    "    plt.plot(list1, list2, color='green', marker='o', linestyle='solid')\n",
    "\n",
    "    # add a title\n",
    "    plt.title(a.name + \"-\" + b.name)\n",
    "\n",
    "    # add a label to the y-axis\n",
    "    plt.ylabel(b.name)\n",
    "    plt.show()\n",
    "    \n",
    "linechart(plt,crimeData['Year'], crimeData['Violent crime'])"
   ]
  },
  {
   "cell_type": "markdown",
   "metadata": {
    "colab_type": "text",
    "id": "iL17lG1zZmZA"
   },
   "source": [
    "### **3. However, if we want to see the composition of different kinds of criminals, we can draw a stacked area plot**"
   ]
  },
  {
   "cell_type": "code",
   "execution_count": 0,
   "metadata": {
    "colab": {},
    "colab_type": "code",
    "id": "X5a-POQuWxWD"
   },
   "outputs": [],
   "source": [
    "\n",
    "# copy the original data set\n",
    "crimeData_copy = crimeData.copy()\n",
    "crimeData_copy.columns = ['a','b','c','d','e','f','g','h','i','j','k','l','m','n','o','p','q','r','s','t','u','v']\n",
    "\n",
    "# define the x-axis\n",
    "x = ('1997','1998','1999','2000','2001','2002','2003','2004','2005','2006','2007','2008','2009','2010','2011','2012','2013','2014','2015','2016')\n",
    "\n",
    "# draw the stacked area plot with data\n",
    "plt.stackplot(x,crimeData_copy['e'],crimeData_copy['i'],crimeData_copy['k'],crimeData_copy['m'],crimeData_copy['o'],crimeData_copy['q'],crimeData_copy['s'],crimeData_copy['u'], colors = ['red','yellow','blue','green','orange','gray','purple','pink'])\n",
    "\n",
    "# define patches\n",
    "red_patch = mpatches.Patch(color = 'red', label = 'Murder and Nonnegligent Manslaughter')\n",
    "yellow_patch = mpatches.Patch(color = 'yellow',label = 'Rape')\n",
    "blue_patch = mpatches.Patch(color = 'blue', label = 'Robbery')\n",
    "green_patch = mpatches.Patch(color = 'green', label = 'Aggrabated Assault')\n",
    "orange_patch = mpatches.Patch(color = 'orange', label = 'Property Crime')\n",
    "gray_patch = mpatches.Patch(color = 'gray', label = 'Burglary')\n",
    "purple_patch = mpatches.Patch(color = 'purple', label = 'Larceny-theft')\n",
    "pink_patch = mpatches.Patch(color = 'pink', label= 'Motor Vehicle Theft')\n",
    "plt.legend(handles = [red_patch,yellow_patch,blue_patch,green_patch,orange_patch,gray_patch,purple_patch, pink_patch], loc = 'upper left')\n",
    "\n",
    "# show the plot\n",
    "plt.show()\n",
    "\n"
   ]
  },
  {
   "cell_type": "code",
   "execution_count": 0,
   "metadata": {
    "colab": {},
    "colab_type": "code",
    "id": "VYONl7AsWzS1"
   },
   "outputs": [],
   "source": [
    "\n",
    "x = ('1997','1998','1999','2000','2001','2002','2003','2004','2005','2006','2007','2008','2009','2010','2011','2012','2013','2014','2015','2016')\n",
    "plt.stackplot(x,crimeData_copy['f'],crimeData_copy['j'],crimeData_copy['l'],crimeData_copy['n'],crimeData_copy['p'],crimeData_copy['r'],crimeData_copy['t'],crimeData_copy['v'], colors = ['red','yellow','blue','green','orange','gray','purple','pink'],baseline = 'zero')\n",
    "\n",
    "\n",
    "red_patch = mpatches.Patch(color = 'red', label = 'Murder and Nonnegligent Manslaughter')\n",
    "yellow_patch = mpatches.Patch(color = 'yellow',label = 'Rape')\n",
    "blue_patch = mpatches.Patch(color = 'blue', label = 'Robbery')\n",
    "green_patch = mpatches.Patch(color = 'green', label = 'Aggrabated Assault')\n",
    "orange_patch = mpatches.Patch(color = 'orange', label = 'Property Crime')\n",
    "gray_patch = mpatches.Patch(color = 'gray', label = 'Burglary')\n",
    "purple_patch = mpatches.Patch(color = 'purple', label = 'Larceny-theft')\n",
    "pink_patch = mpatches.Patch(color = 'pink', label= 'Motor Vehicle Theft')\n",
    "\n",
    "\n",
    "\n",
    "plt.legend(handles = [red_patch,yellow_patch,blue_patch,green_patch,orange_patch,gray_patch,purple_patch, pink_patch], loc = 'upper left')\n",
    "plt.show()\n"
   ]
  }
 ],
 "metadata": {
  "celltoolbar": "Raw Cell Format",
  "colab": {
   "include_colab_link": true,
   "name": "Untitled0.ipynb",
   "provenance": [],
   "toc_visible": true,
   "version": "0.3.2"
  },
  "kernelspec": {
   "display_name": "Python 3",
   "language": "python",
   "name": "python3"
  },
  "language_info": {
   "codemirror_mode": {
    "name": "ipython",
    "version": 3
   },
   "file_extension": ".py",
   "mimetype": "text/x-python",
   "name": "python",
   "nbconvert_exporter": "python",
   "pygments_lexer": "ipython3",
   "version": "3.6.5"
  }
 },
 "nbformat": 4,
 "nbformat_minor": 1
}
