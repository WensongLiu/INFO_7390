{
 "cells": [
  {
   "cell_type": "code",
   "execution_count": 1,
   "metadata": {},
   "outputs": [],
   "source": [
    "import pandas as pd\n",
    "import numpy as np\n",
    "from sklearn.feature_selection import VarianceThreshold\n",
    "from sklearn.feature_selection import SelectKBest\n",
    "from sklearn.feature_selection import SelectPercentile\n",
    "from sklearn.feature_selection import f_regression\n",
    "from sklearn.feature_selection import mutual_info_regression\n",
    "from sklearn.feature_selection import RFE"
   ]
  },
  {
   "cell_type": "code",
   "execution_count": 2,
   "metadata": {},
   "outputs": [],
   "source": [
    "def read_and_get_data():\n",
    "    train_data = pd.read_csv('./training.csv')\n",
    "    test_data = pd.read_csv('./testing.csv')\n",
    "\n",
    "    x_train = train_data.values[:,2:28]\n",
    "    y_train = train_data['Appliances'].values\n",
    "\n",
    "    x_test = test_data.values[:,2:28]\n",
    "    y_test = test_data['Appliances'].values\n",
    "    return x_train, y_train, x_test, y_test\n",
    "\n",
    "x_train, y_train, x_test, y_test = read_and_get_data()"
   ]
  },
  {
   "cell_type": "markdown",
   "metadata": {},
   "source": [
    "### by removing features with low variance"
   ]
  },
  {
   "cell_type": "code",
   "execution_count": 3,
   "metadata": {},
   "outputs": [],
   "source": [
    "def fea_sel_variancethreshold(x_pre):\n",
    "    sel = VarianceThreshold(threshold=(.8*(1-.8)))\n",
    "    x_post = sel.fit_transform(x_pre)\n",
    "    return x_post"
   ]
  },
  {
   "cell_type": "markdown",
   "metadata": {},
   "source": [
    "### by selection best features based on univatiate statistical tests."
   ]
  },
  {
   "cell_type": "code",
   "execution_count": 4,
   "metadata": {},
   "outputs": [],
   "source": [
    "\n",
    "def Kbest_by_f_regressor(num,x_pre,y):\n",
    "    x_post = SelectKBest(f_regression, k=num).fit_transform(x_pre, y)\n",
    "    return x_post\n",
    "\n",
    "def Kbest_by_mutual_info(num,x_pre,y):\n",
    "    x_post = SelectKBest(mutual_info_regression, k=num).fit_transform(x_pre, y)\n",
    "    return x_post\n",
    "\n",
    "def perc_by_f_regressor(num,x_pre,y):\n",
    "    if(num > 100 or num < 0):\n",
    "        print('wrong percentage: {}%'.format(num))\n",
    "        return\n",
    "    x_post = SelectPercentile(f_regression, percentile=num).fit_transform(x_pre, y)\n",
    "    return x_post\n",
    "\n",
    "def perc_by_mutual_info(num,x_pre,y):\n",
    "    if(num > 100 or num < 0):\n",
    "        print('wrong percentage: {}%'.format(num))\n",
    "        return\n",
    "    x_post = SelectPercentile(mutual_info_regression, percentile=num).fit_transform(x_pre, y)\n",
    "    return x_post"
   ]
  },
  {
   "cell_type": "markdown",
   "metadata": {},
   "source": [
    "### by an external estimator"
   ]
  },
  {
   "cell_type": "code",
   "execution_count": 5,
   "metadata": {},
   "outputs": [],
   "source": [
    "def recursively_sel(regressor, num, x_pre, y):\n",
    "    rfe = RFE(estimator=regressor, n_features_to_select=num, step = 1)\n",
    "    rfe.fit(x_pre,y)\n",
    "    x_post = rfe.transform(x_pre)\n",
    "    return x_post"
   ]
  },
  {
   "cell_type": "code",
   "execution_count": 6,
   "metadata": {},
   "outputs": [
    {
     "name": "stdout",
     "output_type": "stream",
     "text": [
      "[[30 19.89 47.5966666666667 ... 63.0 5.3 13.275433157104999]\n",
      " [30 19.89 46.6933333333333 ... 59.1666666666667 5.2 18.606194981839508]\n",
      " [30 19.89 46.3 ... 55.3333333333333 5.1 28.64266816759482]\n",
      " ...\n",
      " [0 25.5 46.5 ... 24.5 13.3 49.28293972043321]\n",
      " [10 25.5 46.99 ... 26.166666666666693 13.233333333333302\n",
      "  6.322783650830388]\n",
      " [10 25.5 46.6 ... 27.0 13.2 34.11885058740153]]\n"
     ]
    }
   ],
   "source": [
    "x_transformed = fea_sel_variancethreshold(x_train)\n",
    "print(x_transformed)"
   ]
  },
  {
   "cell_type": "markdown",
   "metadata": {},
   "source": [
    "### below call different functions to do feature selection"
   ]
  },
  {
   "cell_type": "code",
   "execution_count": 7,
   "metadata": {},
   "outputs": [
    {
     "name": "stdout",
     "output_type": "stream",
     "text": [
      "[[30 92.0]\n",
      " [30 92.0]\n",
      " [30 92.0]\n",
      " ...\n",
      " [0 56.0]\n",
      " [10 56.6666666666667]\n",
      " [10 57.0]]\n"
     ]
    }
   ],
   "source": [
    "x_transformed = Kbest_by_f_regressor(2,x_train,y_train)\n",
    "print(x_transformed)"
   ]
  },
  {
   "cell_type": "code",
   "execution_count": 8,
   "metadata": {},
   "outputs": [
    {
     "name": "stderr",
     "output_type": "stream",
     "text": [
      "/Library/Frameworks/Python.framework/Versions/3.6/lib/python3.6/site-packages/sklearn/utils/validation.py:590: DataConversionWarning: Data with input dtype int64 was converted to float64 by the scale function.\n",
      "  warnings.warn(msg, DataConversionWarning)\n"
     ]
    },
    {
     "name": "stdout",
     "output_type": "stream",
     "text": [
      "[[19.89 47.5966666666667 19.2 ... 17.033333333333303 45.53 733.5]\n",
      " [19.89 46.6933333333333 19.2 ... 17.0666666666667 45.56 733.6]\n",
      " [19.89 46.3 19.2 ... 17.0 45.5 733.7]\n",
      " ...\n",
      " [25.5 46.5 25.754 ... 23.2 46.79 755.2]\n",
      " [25.5 46.99 25.414 ... 23.2 46.8175 755.2]\n",
      " [25.5 46.6 25.264285714285695 ... 23.2 46.845 755.2]]\n"
     ]
    }
   ],
   "source": [
    "x_transformed = Kbest_by_mutual_info(15,x_train,y_train)\n",
    "print(x_transformed)"
   ]
  },
  {
   "cell_type": "code",
   "execution_count": 9,
   "metadata": {},
   "outputs": [
    {
     "name": "stdout",
     "output_type": "stream",
     "text": [
      "[[30 19.89 47.5966666666667 ... 733.5 92.0 7.0]\n",
      " [30 19.89 46.6933333333333 ... 733.6 92.0 6.6666666666666705]\n",
      " [30 19.89 46.3 ... 733.7 92.0 6.3333333333333295]\n",
      " ...\n",
      " [0 25.5 46.5 ... 755.2 56.0 3.5]\n",
      " [10 25.5 46.99 ... 755.2 56.6666666666667 3.8333333333333295]\n",
      " [10 25.5 46.6 ... 755.2 57.0 4.0]]\n"
     ]
    }
   ],
   "source": [
    "x_transformed = perc_by_f_regressor(80,x_train,y_train)\n",
    "print(x_transformed)"
   ]
  },
  {
   "cell_type": "code",
   "execution_count": 10,
   "metadata": {},
   "outputs": [
    {
     "name": "stderr",
     "output_type": "stream",
     "text": [
      "/Library/Frameworks/Python.framework/Versions/3.6/lib/python3.6/site-packages/sklearn/utils/validation.py:590: DataConversionWarning: Data with input dtype int64 was converted to float64 by the scale function.\n",
      "  warnings.warn(msg, DataConversionWarning)\n"
     ]
    },
    {
     "name": "stdout",
     "output_type": "stream",
     "text": [
      "[[30 19.89 47.5966666666667 ... 733.5 92.0 5.3]\n",
      " [30 19.89 46.6933333333333 ... 733.6 92.0 5.2]\n",
      " [30 19.89 46.3 ... 733.7 92.0 5.1]\n",
      " ...\n",
      " [0 25.5 46.5 ... 755.2 56.0 13.3]\n",
      " [10 25.5 46.99 ... 755.2 56.6666666666667 13.233333333333302]\n",
      " [10 25.5 46.6 ... 755.2 57.0 13.2]]\n"
     ]
    }
   ],
   "source": [
    "x_transformed = perc_by_mutual_info(90,x_train,y_train)\n",
    "print(x_transformed)"
   ]
  },
  {
   "cell_type": "code",
   "execution_count": 11,
   "metadata": {},
   "outputs": [
    {
     "name": "stdout",
     "output_type": "stream",
     "text": [
      "[[47.5966666666667 19.2 44.79 ... 45.53 733.5 92.0]\n",
      " [46.6933333333333 19.2 44.7225 ... 45.56 733.6 92.0]\n",
      " [46.3 19.2 44.6266666666667 ... 45.5 733.7 92.0]\n",
      " ...\n",
      " [46.5 25.754 42.08 ... 46.79 755.2 56.0]\n",
      " [46.99 25.414 43.036 ... 46.8175 755.2 56.6666666666667]\n",
      " [46.6 25.264285714285695 42.97142857142861 ... 46.845 755.2 57.0]]\n"
     ]
    }
   ],
   "source": [
    "from sklearn.ensemble import RandomForestRegressor\n",
    "# below rf can be changed to a linear regressor or a neural network regressor\n",
    "regressor = RandomForestRegressor(n_estimators=100, max_depth=None)\n",
    "x_transformed = recursively_sel(regressor, 15, x_train, y_train)\n",
    "print(x_transformed)"
   ]
  },
  {
   "cell_type": "code",
   "execution_count": null,
   "metadata": {},
   "outputs": [],
   "source": []
  }
 ],
 "metadata": {
  "kernelspec": {
   "display_name": "Python 3",
   "language": "python",
   "name": "python3"
  },
  "language_info": {
   "codemirror_mode": {
    "name": "ipython",
    "version": 3
   },
   "file_extension": ".py",
   "mimetype": "text/x-python",
   "name": "python",
   "nbconvert_exporter": "python",
   "pygments_lexer": "ipython3",
   "version": "3.6.5"
  }
 },
 "nbformat": 4,
 "nbformat_minor": 2
}
