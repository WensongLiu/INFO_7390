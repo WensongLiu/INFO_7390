{
 "cells": [
  {
   "cell_type": "markdown",
   "metadata": {},
   "source": [
    "#                                     Renewable and Sustainable Energy Reviews\n",
    "\n",
    "This article is talking about building energy prediction. Population growth and economic development in many ways propelled energy and material consumption to a greater degree that threatens the very existence of our Earth. Building energy use prediction plays an important role in building energy management and conservation as it can help us to evaluate building energy efficiency, conduct building commissioning, and detect and diagnose building system faults. Building energy prediction can be broadly classified into engineering, Artificial Intelligence (AI) based, and hybrid approaches.\n",
    "\n",
    "Tools can be further classified as engineering method, AI-based method, and hybrid method. The engineering method estimates energy use by using thermodynamic equations to represent the physical behavior of systems and their interactions with the environment to estimate energy use, energy consumption of individual building component or the entire building. This method is referred to as the ‘white-box’ as the inner logic is known. Different from engineering approach, the AI-based method is referred to as the ‘black-box’ because it predicts energy use without knowing the internal relationship of the building and its individual components. The hybrid method, also known as the ‘grey- box’, integrates both white-box and black-box methods for the purpose of eliminating the limitations inherent in each method. Both white-box and grey-box methods require detailed building information to simu- late the inner relations to estimate energy use and, therefore, are time-consuming and require tedious expert work for model development.Various AI-based energy prediction models were proposed in the reviewed articles. According to the model structure and the number of prediction models used, these models may be classified into two categories: single and ensemble prediction modelsprediction methods based on their prediction schemes. While the single prediction method uses one learning algorithm, the ensemble prediction method comprises of multiple prediction models and has a model integration process when outputting the data. \n",
    "\n",
    "AI-based prediction method consists of four main steps: data collection, data preprocessing, model training, and model testing. The first step is to acquire historical input and output data. In general, most influential and highly correlated input data may bring better prediction results.The output data are those parameters that represent building energy use. Data preprocessing is performed on the collected data to organize them in a suitable format before they are used to train the AI- based prediction model. The third step is to train the AI-based prediction model.The training process aims to select the most appropriate parameters that improve the prediction performance of the learning algorithm. The last step is to validate the prediction performance of the model by applying the testing data to the trained model. Performance indicators such as RMSE, MAPE, and coefficient of determination (R2) are used to evaluate the performance. The training process aims to select the most appropriate parameters that improve the prediction performance of the learning algorithm. "
   ]
  }
 ],
 "metadata": {
  "kernelspec": {
   "display_name": "Python 3",
   "language": "python",
   "name": "python3"
  },
  "language_info": {
   "codemirror_mode": {
    "name": "ipython",
    "version": 3
   },
   "file_extension": ".py",
   "mimetype": "text/x-python",
   "name": "python",
   "nbconvert_exporter": "python",
   "pygments_lexer": "ipython3",
   "version": "3.6.5"
  }
 },
 "nbformat": 4,
 "nbformat_minor": 2
}
