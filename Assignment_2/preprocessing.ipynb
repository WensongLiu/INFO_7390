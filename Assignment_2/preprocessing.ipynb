{
 "cells": [
  {
   "cell_type": "code",
   "execution_count": 1,
   "metadata": {},
   "outputs": [],
   "source": [
    "from sklearn import preprocessing\n",
    "import pandas as pd\n",
    "import numpy as np"
   ]
  },
  {
   "cell_type": "code",
   "execution_count": 2,
   "metadata": {},
   "outputs": [],
   "source": [
    "complete_df = pd.read_csv('./dataset/data_complete.csv')\n",
    "training_df = pd.read_csv('./dataset/training.csv')\n",
    "testing_df = pd.read_csv('./dataset/testing.csv')"
   ]
  },
  {
   "cell_type": "code",
   "execution_count": 4,
   "metadata": {
    "scrolled": false
   },
   "outputs": [
    {
     "data": {
      "text/plain": [
       "date            object\n",
       "Appliances       int64\n",
       "lights           int64\n",
       "T1             float64\n",
       "RH_1           float64\n",
       "T2             float64\n",
       "RH_2           float64\n",
       "T3             float64\n",
       "RH_3           float64\n",
       "T4             float64\n",
       "RH_4           float64\n",
       "T5             float64\n",
       "RH_5           float64\n",
       "T6             float64\n",
       "RH_6           float64\n",
       "T7             float64\n",
       "RH_7           float64\n",
       "T8             float64\n",
       "RH_8           float64\n",
       "T9             float64\n",
       "RH_9           float64\n",
       "T_out          float64\n",
       "Press_mm_hg    float64\n",
       "RH_out         float64\n",
       "Windspeed      float64\n",
       "Visibility     float64\n",
       "Tdewpoint      float64\n",
       "rv1            float64\n",
       "rv2            float64\n",
       "dtype: object"
      ]
     },
     "execution_count": 4,
     "metadata": {},
     "output_type": "execute_result"
    }
   ],
   "source": [
    "complete_df.dtypes"
   ]
  },
  {
   "cell_type": "code",
   "execution_count": 5,
   "metadata": {},
   "outputs": [
    {
     "data": {
      "text/plain": [
       "date            object\n",
       "Appliances       int64\n",
       "lights           int64\n",
       "T1             float64\n",
       "RH_1           float64\n",
       "T2             float64\n",
       "RH_2           float64\n",
       "T3             float64\n",
       "RH_3           float64\n",
       "T4             float64\n",
       "RH_4           float64\n",
       "T5             float64\n",
       "RH_5           float64\n",
       "T6             float64\n",
       "RH_6           float64\n",
       "T7             float64\n",
       "RH_7           float64\n",
       "T8             float64\n",
       "RH_8           float64\n",
       "T9             float64\n",
       "RH_9           float64\n",
       "T_out          float64\n",
       "Press_mm_hg    float64\n",
       "RH_out         float64\n",
       "Windspeed      float64\n",
       "Visibility     float64\n",
       "Tdewpoint      float64\n",
       "rv1            float64\n",
       "rv2            float64\n",
       "NSM              int64\n",
       "WeekStatus      object\n",
       "Day_of_week     object\n",
       "dtype: object"
      ]
     },
     "execution_count": 5,
     "metadata": {},
     "output_type": "execute_result"
    }
   ],
   "source": [
    "training_df.dtypes"
   ]
  },
  {
   "cell_type": "code",
   "execution_count": 6,
   "metadata": {},
   "outputs": [
    {
     "data": {
      "text/plain": [
       "date            object\n",
       "Appliances       int64\n",
       "lights           int64\n",
       "T1             float64\n",
       "RH_1           float64\n",
       "T2             float64\n",
       "RH_2           float64\n",
       "T3             float64\n",
       "RH_3           float64\n",
       "T4             float64\n",
       "RH_4           float64\n",
       "T5             float64\n",
       "RH_5           float64\n",
       "T6             float64\n",
       "RH_6           float64\n",
       "T7             float64\n",
       "RH_7           float64\n",
       "T8             float64\n",
       "RH_8           float64\n",
       "T9             float64\n",
       "RH_9           float64\n",
       "T_out          float64\n",
       "Press_mm_hg    float64\n",
       "RH_out         float64\n",
       "Windspeed      float64\n",
       "Visibility     float64\n",
       "Tdewpoint      float64\n",
       "rv1            float64\n",
       "rv2            float64\n",
       "NSM              int64\n",
       "WeekStatus      object\n",
       "Day_of_week     object\n",
       "dtype: object"
      ]
     },
     "execution_count": 6,
     "metadata": {},
     "output_type": "execute_result"
    }
   ],
   "source": [
    "testing_df.dtypes"
   ]
  },
  {
   "cell_type": "code",
   "execution_count": 16,
   "metadata": {},
   "outputs": [],
   "source": [
    "numeric_data_complete = complete_df.select_dtypes(include=['float64','int64'])\n",
    "categorical_columns_complete = complete_df.select_dtypes(include=['object'])"
   ]
  },
  {
   "cell_type": "markdown",
   "metadata": {},
   "source": [
    "Standardization"
   ]
  },
  {
   "cell_type": "code",
   "execution_count": 37,
   "metadata": {
    "scrolled": true
   },
   "outputs": [],
   "source": [
    "#Method_1\n",
    "#\n",
    "#numeric_data_complete\n",
    "complete = np.array(numeric_data_complete)\n",
    "# calculate mean  \n",
    "complete_mean = complete.mean(axis=0)  \n",
    "# calculate variance   \n",
    "complete_std = complete.std(axis=0)  \n",
    "# standardize  \n",
    "complete1 = (complete-complete_mean)/complete_std  \n",
    "# use function preprocessing.scale to standardize \n",
    "complete_scale = preprocessing.scale(complete) "
   ]
  },
  {
   "cell_type": "code",
   "execution_count": 38,
   "metadata": {},
   "outputs": [
    {
     "data": {
      "text/plain": [
       "array([[-0.36767572,  3.30126384, -1.11864475, ...,  0.3669753 ,\n",
       "        -0.80797358, -0.80797358],\n",
       "       [-0.36767572,  3.30126384, -1.11864475, ...,  0.34313479,\n",
       "        -0.44024015, -0.44024015],\n",
       "       [-0.46521548,  3.30126384, -1.11864475, ...,  0.31929428,\n",
       "         0.25210868,  0.25210868],\n",
       "       ...,\n",
       "       [ 1.68065927,  0.78103476,  2.37445166, ...,  2.26626907,\n",
       "         0.29049435,  0.29049435],\n",
       "       [ 3.14375569,  0.78103476,  2.37445166, ...,  2.25832223,\n",
       "        -1.28759013, -1.28759013],\n",
       "       [ 3.24129545,  0.78103476,  2.37445166, ...,  2.2503754 ,\n",
       "         0.6298737 ,  0.6298737 ]])"
      ]
     },
     "execution_count": 38,
     "metadata": {},
     "output_type": "execute_result"
    }
   ],
   "source": [
    "complete_scale"
   ]
  },
  {
   "cell_type": "code",
   "execution_count": 40,
   "metadata": {},
   "outputs": [],
   "source": [
    "#Method_2\n",
    "X = np.array(numeric_data_complete)  \n",
    "scaler = preprocessing.StandardScaler()  \n",
    "X_scaled = scaler.fit_transform(X)"
   ]
  },
  {
   "cell_type": "code",
   "execution_count": 41,
   "metadata": {},
   "outputs": [
    {
     "data": {
      "text/plain": [
       "array([[-0.36767572,  3.30126384, -1.11864475, ...,  0.3669753 ,\n",
       "        -0.80797358, -0.80797358],\n",
       "       [-0.36767572,  3.30126384, -1.11864475, ...,  0.34313479,\n",
       "        -0.44024015, -0.44024015],\n",
       "       [-0.46521548,  3.30126384, -1.11864475, ...,  0.31929428,\n",
       "         0.25210868,  0.25210868],\n",
       "       ...,\n",
       "       [ 1.68065927,  0.78103476,  2.37445166, ...,  2.26626907,\n",
       "         0.29049435,  0.29049435],\n",
       "       [ 3.14375569,  0.78103476,  2.37445166, ...,  2.25832223,\n",
       "        -1.28759013, -1.28759013],\n",
       "       [ 3.24129545,  0.78103476,  2.37445166, ...,  2.2503754 ,\n",
       "         0.6298737 ,  0.6298737 ]])"
      ]
     },
     "execution_count": 41,
     "metadata": {},
     "output_type": "execute_result"
    }
   ],
   "source": [
    "X_scaled"
   ]
  },
  {
   "cell_type": "markdown",
   "metadata": {},
   "source": [
    "Scaling features to a range"
   ]
  },
  {
   "cell_type": "code",
   "execution_count": 45,
   "metadata": {},
   "outputs": [],
   "source": [
    "min_max_scaler = preprocessing.MinMaxScaler(feature_range=( -1, 1))\n",
    "complete_minmax = min_max_scaler.fit_transform(complete)"
   ]
  },
  {
   "cell_type": "code",
   "execution_count": 46,
   "metadata": {},
   "outputs": [
    {
     "data": {
      "text/plain": [
       "array([[-0.90654206, -0.14285714, -0.34530095, ...,  0.07692308,\n",
       "        -0.46910219, -0.46910219],\n",
       "       [-0.90654206, -0.14285714, -0.34530095, ...,  0.0678733 ,\n",
       "        -0.25583421, -0.25583421],\n",
       "       [-0.92523364, -0.14285714, -0.34530095, ...,  0.05882353,\n",
       "         0.14569532,  0.14569532],\n",
       "       ...,\n",
       "       [-0.51401869, -0.71428571,  0.83949314, ...,  0.79788839,\n",
       "         0.16795719,  0.16795719],\n",
       "       [-0.23364486, -0.71428571,  0.83949314, ...,  0.79487179,\n",
       "        -0.74725708, -0.74725708],\n",
       "       [-0.21495327, -0.71428571,  0.83949314, ...,  0.7918552 ,\n",
       "         0.36478114,  0.36478114]])"
      ]
     },
     "execution_count": 46,
     "metadata": {},
     "output_type": "execute_result"
    }
   ],
   "source": [
    "complete_minmax"
   ]
  },
  {
   "cell_type": "markdown",
   "metadata": {},
   "source": [
    "Normalization"
   ]
  },
  {
   "cell_type": "code",
   "execution_count": 48,
   "metadata": {},
   "outputs": [],
   "source": [
    "#Method_1\n",
    "complete_normalized = preprocessing.normalize(complete, norm='l2')"
   ]
  },
  {
   "cell_type": "code",
   "execution_count": 49,
   "metadata": {},
   "outputs": [
    {
     "data": {
      "text/plain": [
       "array([[0.07858774, 0.03929387, 0.02605184, ..., 0.00694192, 0.01738811,\n",
       "        0.01738811],\n",
       "       [0.07859288, 0.03929644, 0.02605354, ..., 0.00681138, 0.02437191,\n",
       "        0.02437191],\n",
       "       [0.06553308, 0.03931985, 0.02606906, ..., 0.00668437, 0.03754084,\n",
       "        0.03754084],\n",
       "       ...,\n",
       "       [0.32931037, 0.01219668, 0.03110154, ..., 0.01618093, 0.03561323,\n",
       "        0.03561323],\n",
       "       [0.47736441, 0.01136582, 0.02898284, ..., 0.01504077, 0.00718636,\n",
       "        0.00718636],\n",
       "       [0.48538035, 0.01128792, 0.02878418, ..., 0.01490005, 0.03851307,\n",
       "        0.03851307]])"
      ]
     },
     "execution_count": 49,
     "metadata": {},
     "output_type": "execute_result"
    }
   ],
   "source": [
    "complete_normalized"
   ]
  },
  {
   "cell_type": "code",
   "execution_count": 52,
   "metadata": {},
   "outputs": [],
   "source": [
    "#Method_2\n",
    "normalizer = preprocessing.Normalizer().fit(complete)  # fit does nothing "
   ]
  },
  {
   "cell_type": "code",
   "execution_count": 53,
   "metadata": {},
   "outputs": [
    {
     "data": {
      "text/plain": [
       "Normalizer(copy=True, norm='l2')"
      ]
     },
     "execution_count": 53,
     "metadata": {},
     "output_type": "execute_result"
    }
   ],
   "source": [
    "normalizer"
   ]
  },
  {
   "cell_type": "code",
   "execution_count": 54,
   "metadata": {},
   "outputs": [
    {
     "data": {
      "text/plain": [
       "array([[0.07858774, 0.03929387, 0.02605184, ..., 0.00694192, 0.01738811,\n",
       "        0.01738811],\n",
       "       [0.07859288, 0.03929644, 0.02605354, ..., 0.00681138, 0.02437191,\n",
       "        0.02437191],\n",
       "       [0.06553308, 0.03931985, 0.02606906, ..., 0.00668437, 0.03754084,\n",
       "        0.03754084],\n",
       "       ...,\n",
       "       [0.32931037, 0.01219668, 0.03110154, ..., 0.01618093, 0.03561323,\n",
       "        0.03561323],\n",
       "       [0.47736441, 0.01136582, 0.02898284, ..., 0.01504077, 0.00718636,\n",
       "        0.00718636],\n",
       "       [0.48538035, 0.01128792, 0.02878418, ..., 0.01490005, 0.03851307,\n",
       "        0.03851307]])"
      ]
     },
     "execution_count": 54,
     "metadata": {},
     "output_type": "execute_result"
    }
   ],
   "source": [
    "normalizer.transform(complete)"
   ]
  }
 ],
 "metadata": {
  "kernelspec": {
   "display_name": "Python 3",
   "language": "python",
   "name": "python3"
  },
  "language_info": {
   "codemirror_mode": {
    "name": "ipython",
    "version": 3
   },
   "file_extension": ".py",
   "mimetype": "text/x-python",
   "name": "python",
   "nbconvert_exporter": "python",
   "pygments_lexer": "ipython3",
   "version": "3.6.5"
  }
 },
 "nbformat": 4,
 "nbformat_minor": 2
}
