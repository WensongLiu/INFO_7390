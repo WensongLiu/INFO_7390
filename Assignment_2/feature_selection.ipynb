{
 "cells": [
  {
   "cell_type": "code",
   "execution_count": null,
   "metadata": {},
   "outputs": [],
   "source": [
    "import pandas as pd\n",
    "import numpy as np\n",
    "from sklearn.feature_selection import VarianceThreshold\n",
    "from sklearn.feature_selection import SelectKBest\n",
    "from sklearn.feature_selection import SelectPercentile\n",
    "from sklearn.feature_selection import f_regression\n",
    "from sklearn.feature_selection import mutual_info_regression\n",
    "from sklearn.feature_selection import RFE"
   ]
  },
  {
   "cell_type": "code",
   "execution_count": null,
   "metadata": {},
   "outputs": [],
   "source": [
    "def read_and_get_data():\n",
    "    train_data = pd.read_csv('./training.csv')\n",
    "    test_data = pd.read_csv('./testing.csv')\n",
    "\n",
    "    x_train = train_data.values[:,2:28]\n",
    "    y_train = train_data['Appliances'].values\n",
    "\n",
    "    x_test = test_data.values[:,2:28]\n",
    "    y_test = test_data['Appliances'].values\n",
    "    return x_train, y_train, x_test, y_test\n",
    "\n",
    "x_train, y_train, x_test, y_test = read_and_get_data()"
   ]
  },
  {
   "cell_type": "markdown",
   "metadata": {},
   "source": [
    "### by removing features with low variance"
   ]
  },
  {
   "cell_type": "code",
   "execution_count": null,
   "metadata": {},
   "outputs": [],
   "source": [
    "def fea_sel_variancethreshold(x_pre):\n",
    "    sel = VarianceThreshold(threshold=(.8*(1-.8)))\n",
    "    x_post = sel.fit_transform(x_pre)\n",
    "    return x_post"
   ]
  },
  {
   "cell_type": "markdown",
   "metadata": {},
   "source": [
    "### by selection best features based on univatiate statistical tests."
   ]
  },
  {
   "cell_type": "code",
   "execution_count": null,
   "metadata": {},
   "outputs": [],
   "source": [
    "\n",
    "def Kbest_by_f_regressor(num,x_pre,y):\n",
    "    x_post = SelectKBest(f_regression, k=num).fit_transform(x_pre, y)\n",
    "    return x_post\n",
    "\n",
    "def Kbest_by_mutual_info(num,x_pre,y):\n",
    "    x_post = SelectKBest(mutual_info_regression, k=num).fit_transform(x_pre, y)\n",
    "    return x_post\n",
    "\n",
    "def perc_by_f_regressor(num,x_pre,y):\n",
    "    if(num > 100 or num < 0):\n",
    "        print('wrong percentage: {}%'.format(num))\n",
    "        return\n",
    "    x_post = SelectPercentile(f_regression, percentile=num).fit_transform(x_pre, y)\n",
    "    return x_post\n",
    "\n",
    "def perc_by_mutual_info(num,x_pre,y):\n",
    "    if(num > 100 or num < 0):\n",
    "        print('wrong percentage: {}%'.format(num))\n",
    "        return\n",
    "    x_post = SelectPercentile(mutual_info_regression, percentile=num).fit_transform(x_pre, y)\n",
    "    return x_post"
   ]
  },
  {
   "cell_type": "markdown",
   "metadata": {},
   "source": [
    "### by an external estimator"
   ]
  },
  {
   "cell_type": "code",
   "execution_count": null,
   "metadata": {},
   "outputs": [],
   "source": [
    "def recursively_sel(regressor,num, x_pre,y):\n",
    "    rfe = RFE(estimator=regressor, n_features_to_select=num, step = 1)\n",
    "    rfe.fit(x_pre,y)\n",
    "    x_post = rfe.transform(x_pre)\n",
    "    return x_post"
   ]
  },
  {
   "cell_type": "code",
   "execution_count": null,
   "metadata": {},
   "outputs": [],
   "source": [
    "x_transformed = fea_sel_variancethreshold(x_train)\n",
    "print(x_transformed)"
   ]
  },
  {
   "cell_type": "markdown",
   "metadata": {},
   "source": [
    "### below call different functions to do feature selection"
   ]
  },
  {
   "cell_type": "code",
   "execution_count": null,
   "metadata": {},
   "outputs": [],
   "source": [
    "x_transformed = Kbest_by_f_regressor(2,x_train,y_train)\n",
    "print(x_transformed)"
   ]
  },
  {
   "cell_type": "code",
   "execution_count": null,
   "metadata": {},
   "outputs": [],
   "source": [
    "x_transformed = Kbest_by_mutual_info(15,x_train,y_train)\n",
    "print(x_transformed)"
   ]
  },
  {
   "cell_type": "code",
   "execution_count": null,
   "metadata": {},
   "outputs": [],
   "source": [
    "x_transformed = perc_by_f_regressor(80,x_train,y_train)\n",
    "print(x_transformed)"
   ]
  },
  {
   "cell_type": "code",
   "execution_count": null,
   "metadata": {},
   "outputs": [],
   "source": [
    "x_transformed = perc_by_mutual_info(90,x_train,y_train)\n",
    "print(x_transformed)"
   ]
  },
  {
   "cell_type": "code",
   "execution_count": null,
   "metadata": {},
   "outputs": [],
   "source": [
    "from sklearn.ensemble import RandomForestRegressor\n",
    "# below rf can be changed to a linear regressor or a neural network regressor\n",
    "regressor = RandomForestRegressor(n_estimators=100, max_depth=None)\n",
    "x_transformed = recursively_sel(regressor, 15, x_train, y_train)\n",
    "print(x_transformed)"
   ]
  }
 ],
 "metadata": {
  "kernelspec": {
   "display_name": "Python 3",
   "language": "python",
   "name": "python3"
  },
  "language_info": {
   "codemirror_mode": {
    "name": "ipython",
    "version": 3
   },
   "file_extension": ".py",
   "mimetype": "text/x-python",
   "name": "python",
   "nbconvert_exporter": "python",
   "pygments_lexer": "ipython3",
   "version": "3.6.5"
  }
 },
 "nbformat": 4,
 "nbformat_minor": 2
}
