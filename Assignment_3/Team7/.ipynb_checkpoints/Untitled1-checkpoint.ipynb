{
 "cells": [
  {
   "cell_type": "code",
   "execution_count": 1,
   "metadata": {
    "scrolled": true
   },
   "outputs": [
    {
     "name": "stderr",
     "output_type": "stream",
     "text": [
      "/usr/local/lib/python3.5/dist-packages/sklearn/ensemble/weight_boosting.py:29: DeprecationWarning: numpy.core.umath_tests is an internal NumPy module and should not be imported. It will be removed in a future NumPy release.\n",
      "  from numpy.core.umath_tests import inner1d\n"
     ]
    }
   ],
   "source": [
    "import pandas as pd\n",
    "from sklearn.feature_extraction import DictVectorizer\n",
    "import autosklearn.classification\n",
    "import sklearn.metrics\n",
    "import pickle"
   ]
  },
  {
   "cell_type": "code",
   "execution_count": 2,
   "metadata": {},
   "outputs": [],
   "source": [
    "cls = autosklearn.classification.AutoSklearnClassifier()"
   ]
  },
  {
   "cell_type": "code",
   "execution_count": 3,
   "metadata": {},
   "outputs": [],
   "source": [
    "def read_txt_file(path, col_header):\n",
    "\tdf = pd.read_table(path, delimiter='|', header = None, names = col_header)\n",
    "\treturn df\n",
    "\n",
    "def dropCol(dataset, cutoff = 0.3):\n",
    "    for col_name in columns_header:\n",
    "        n = len(dataset)\n",
    "        value_count = dataset[col_name].count()\n",
    "        if(value_count/n) < cutoff:\n",
    "            dataset.drop(col_name, axis = 1, inplace = True)\n",
    "    return dataset\n",
    "  \n",
    "def toDatetime(dataset):\n",
    "    dataset[\"MONTHLY_REPORTING_PERIOD\"] = pd.to_datetime(dataset[\"MONTHLY_REPORTING_PERIOD\"], format = \"%Y%m\")\n",
    "    dataset['Year'] = pd.DatetimeIndex(dataset[\"MONTHLY_REPORTING_PERIOD\"]).year\n",
    "    dataset['Month'] = pd.DatetimeIndex(dataset[\"MONTHLY_REPORTING_PERIOD\"]).month\n",
    "    dataset.drop([\"MONTHLY_REPORTING_PERIOD\"], axis = 1, inplace = True)\n",
    "    return dataset\n",
    "\n",
    "def categorical_to_numerical(dataset):\n",
    "    categorical_columns = dataset.select_dtypes(include=['object']).columns\n",
    "    for col in categorical_columns:\n",
    "        dataset[col] = dataset[col].astype('category')\n",
    "    vec = DictVectorizer(sparse=False, dtype=int)\n",
    "    dc = dataset.to_dict('records')\n",
    "    result = vec.fit_transform(dc)\n",
    "    return result\n",
    "\n",
    "def divide_x_y(dataframe):\n",
    "    Y = dataframe['CURRENT_LOAN_DELINQUENCY_STATUS']\n",
    "    dataframe.drop(['CURRENT_LOAN_DELINQUENCY_STATUS'], axis = 1, inplace = True)\n",
    "    df_Y = pd.DataFrame(Y)\n",
    "    return dataframe, df_Y\n",
    "\n",
    "def pre_poccessing(df):\n",
    "\tdf = dropCol(df)\n",
    "\tdf = toDatetime(df)\n",
    "\tx,y = divide_x_y(df)\n",
    "\tx.drop(['LOAN_SEQUENCE_NUMBER'], axis = 1, inplace = True)\n",
    "\ty = y.replace(to_replace=r'.*R.*', value = '-1', regex = True)\n",
    "\ty = y['CURRENT_LOAN_DELINQUENCY_STATUS'].values.astype('int32')\n",
    "\tx = categorical_to_numerical(x)\n",
    "\treturn x, y"
   ]
  },
  {
   "cell_type": "code",
   "execution_count": 4,
   "metadata": {},
   "outputs": [
    {
     "name": "stderr",
     "output_type": "stream",
     "text": [
      "/usr/local/lib/python3.5/dist-packages/IPython/core/interactiveshell.py:3185: DtypeWarning: Columns (3,7,14,23) have mixed types. Specify dtype option on import or set low_memory=False.\n",
      "  if (yield from self.run_code(code, result)):\n"
     ]
    }
   ],
   "source": [
    "columns_header = ['LOAN_SEQUENCE_NUMBER','MONTHLY_REPORTING_PERIOD','CURRENT_ACTUAL_UPB','CURRENT_LOAN_DELINQUENCY_STATUS','LOAN_AGE','REMAINING_MONTHS_TO_LEGAL_MATURITY','REPURCHASE_FLAG','MODIFICATION_FLAG','ZERO_BALANCE_CODE','ZERO_BALANCE_EFFECTIVE_DATE','CURRENT_INTEREST_RATE','CURRENT_DEFERRED_UPB','DUE_DATE_OF_LAST_PAID_INSTALLMENT(DDLPI)','MI_RECOVERIES','NET_SALES_PROCEEDS','NON_MI_RECOVERIES','EXPENSES','LEGAL_COSTS','MAINTENANCE_AND_PRESERVATION_COSTS','TAXES_AND_INSURANCE','MISCELLANEOUS_EXPENSES','ACTUAL_LOSS_CALCULATION','MODIFICATION_COST','STEP_MODIFICATION_FLAG','DEFERRED_PAYMENT_MODIFICATION','ESTIMATED_LOAN_TO_VALUE(ELTV)']\n",
    "df_train = read_txt_file('./Q12015/historical_data1_time_Q12015.txt', columns_header)\n",
    "x_train, y_train = pre_poccessing(df_train)\n",
    "df_test = read_txt_file('./Q22015/historical_data1_time_Q22015.txt', columns_header)\n",
    "x_test, y_test = pre_poccessing(df_test)"
   ]
  },
  {
   "cell_type": "code",
   "execution_count": null,
   "metadata": {},
   "outputs": [],
   "source": [
    "def save_model(model, filename):\n",
    "    pickle.dump(model, open(filename, 'wb'))"
   ]
  },
  {
   "cell_type": "code",
   "execution_count": null,
   "metadata": {},
   "outputs": [
    {
     "name": "stdout",
     "output_type": "stream",
     "text": [
      "[ERROR] [2018-11-29 15:48:31,272:AutoML(1):c978bc46953943bd7746659ffab1937f] Error creating dummy predictions: {'configuration_origin': 'DUMMY', 'error': 'Memout (used more than 3072 MB).'} \n",
      "[WARNING] [2018-11-29 16:26:02,167:smac.intensification.intensification.Intensifier] Challenger was the same as the current incumbent; Skipping challenger\n",
      "[WARNING] [2018-11-29 16:26:02,167:smac.intensification.intensification.Intensifier] Challenger was the same as the current incumbent; Skipping challenger\n"
     ]
    }
   ],
   "source": [
    "cls.fit(x_train,y_train)\n",
    "save_model(cls, 'automl.sav')\n",
    "y_pred = cls.predict(x_test)\n",
    "accuracy_score = sklearn.metrics.accuracy_score(y_test, y_pred)\n",
    "print('accuracy score is {}'.format(accuracy_score))"
   ]
  },
  {
   "cell_type": "code",
   "execution_count": null,
   "metadata": {},
   "outputs": [],
   "source": [
    "from sklearn.ensemble import RandomForestClassifier\n",
    "rfclf = RandomForestClassifier(n_estimators = 100)\n",
    "rfcls.fit(x_train, y_train)\n",
    "save_model(rfcls, 'rf_cls_trained.sav')\n",
    "y_pred_rf = rfcls.predict(x_test)\n",
    "accuracy_score_1 = sklearn.metrics.accuracy_score(y_test, y_pred_rf)\n",
    "print('accuracy score is {}'.format(accuracy_score_1))"
   ]
  },
  {
   "cell_type": "code",
   "execution_count": null,
   "metadata": {},
   "outputs": [],
   "source": [
    "from sklearn.neural_network import MLPClassifier\n",
    "nnclf = MLPClassifier(hidden_layer_sizes = (10,7,5,2))\n",
    "nncls.fit(x_train, y_train)\n",
    "save_model(nncls, 'nn_cls_trained.sav')\n",
    "y_pred_nn = rfcls.predict(x_test)\n",
    "accuracy_score_2 = sklearn.metrics.accuracy_score(y_test, y_pred_nn)\n",
    "print('accuracy score is {}'.format(accuracy_score_2))"
   ]
  },
  {
   "cell_type": "code",
   "execution_count": null,
   "metadata": {},
   "outputs": [],
   "source": [
    "print('Please choose a model: \\n1 -> {}\\n2 -> {}\\n3 -> {}\\n4 ->{}'.format('LogisticRegression by Sklearn','MLPClassifier by Sklearn','RandomForestClassifier by Sklearn','AutoSklearnClassifier by AutoSklearn'))\n",
    "model = input('Please enter one number represents above model: ')"
   ]
  },
  {
   "cell_type": "code",
   "execution_count": null,
   "metadata": {},
   "outputs": [],
   "source": []
  }
 ],
 "metadata": {
  "kernelspec": {
   "display_name": "Python 3",
   "language": "python",
   "name": "python3"
  },
  "language_info": {
   "codemirror_mode": {
    "name": "ipython",
    "version": 3
   },
   "file_extension": ".py",
   "mimetype": "text/x-python",
   "name": "python",
   "nbconvert_exporter": "python",
   "pygments_lexer": "ipython3",
   "version": "3.5.2"
  }
 },
 "nbformat": 4,
 "nbformat_minor": 2
}
