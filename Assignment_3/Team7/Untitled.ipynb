{
 "cells": [
  {
   "cell_type": "code",
   "execution_count": 1,
   "metadata": {},
   "outputs": [
    {
     "name": "stdout",
     "output_type": "stream",
     "text": [
      "Please choose a model: \n",
      "1 -> LogisticRegression by Sklearn\n",
      "2 -> MLPClassifier by Sklearn\n",
      "3 -> RandomForestClassifier by Sklearn\n",
      "4 ->AutoSklearnClassifier by AutoSklearn\n"
     ]
    },
    {
     "ename": "KeyboardInterrupt",
     "evalue": "",
     "output_type": "error",
     "traceback": [
      "\u001b[0;31m---------------------------------------------------------------------------\u001b[0m",
      "\u001b[0;31mKeyboardInterrupt\u001b[0m                         Traceback (most recent call last)",
      "\u001b[0;32m/usr/local/lib/python3.5/dist-packages/ipykernel/kernelbase.py\u001b[0m in \u001b[0;36m_input_request\u001b[0;34m(self, prompt, ident, parent, password)\u001b[0m\n\u001b[1;32m    877\u001b[0m             \u001b[0;32mtry\u001b[0m\u001b[0;34m:\u001b[0m\u001b[0;34m\u001b[0m\u001b[0m\n\u001b[0;32m--> 878\u001b[0;31m                 \u001b[0mident\u001b[0m\u001b[0;34m,\u001b[0m \u001b[0mreply\u001b[0m \u001b[0;34m=\u001b[0m \u001b[0mself\u001b[0m\u001b[0;34m.\u001b[0m\u001b[0msession\u001b[0m\u001b[0;34m.\u001b[0m\u001b[0mrecv\u001b[0m\u001b[0;34m(\u001b[0m\u001b[0mself\u001b[0m\u001b[0;34m.\u001b[0m\u001b[0mstdin_socket\u001b[0m\u001b[0;34m,\u001b[0m \u001b[0;36m0\u001b[0m\u001b[0;34m)\u001b[0m\u001b[0;34m\u001b[0m\u001b[0m\n\u001b[0m\u001b[1;32m    879\u001b[0m             \u001b[0;32mexcept\u001b[0m \u001b[0mException\u001b[0m\u001b[0;34m:\u001b[0m\u001b[0;34m\u001b[0m\u001b[0m\n",
      "\u001b[0;32m/usr/local/lib/python3.5/dist-packages/jupyter_client/session.py\u001b[0m in \u001b[0;36mrecv\u001b[0;34m(self, socket, mode, content, copy)\u001b[0m\n\u001b[1;32m    802\u001b[0m         \u001b[0;32mtry\u001b[0m\u001b[0;34m:\u001b[0m\u001b[0;34m\u001b[0m\u001b[0m\n\u001b[0;32m--> 803\u001b[0;31m             \u001b[0mmsg_list\u001b[0m \u001b[0;34m=\u001b[0m \u001b[0msocket\u001b[0m\u001b[0;34m.\u001b[0m\u001b[0mrecv_multipart\u001b[0m\u001b[0;34m(\u001b[0m\u001b[0mmode\u001b[0m\u001b[0;34m,\u001b[0m \u001b[0mcopy\u001b[0m\u001b[0;34m=\u001b[0m\u001b[0mcopy\u001b[0m\u001b[0;34m)\u001b[0m\u001b[0;34m\u001b[0m\u001b[0m\n\u001b[0m\u001b[1;32m    804\u001b[0m         \u001b[0;32mexcept\u001b[0m \u001b[0mzmq\u001b[0m\u001b[0;34m.\u001b[0m\u001b[0mZMQError\u001b[0m \u001b[0;32mas\u001b[0m \u001b[0me\u001b[0m\u001b[0;34m:\u001b[0m\u001b[0;34m\u001b[0m\u001b[0m\n",
      "\u001b[0;32m/usr/local/lib/python3.5/dist-packages/zmq/sugar/socket.py\u001b[0m in \u001b[0;36mrecv_multipart\u001b[0;34m(self, flags, copy, track)\u001b[0m\n\u001b[1;32m    466\u001b[0m         \"\"\"\n\u001b[0;32m--> 467\u001b[0;31m         \u001b[0mparts\u001b[0m \u001b[0;34m=\u001b[0m \u001b[0;34m[\u001b[0m\u001b[0mself\u001b[0m\u001b[0;34m.\u001b[0m\u001b[0mrecv\u001b[0m\u001b[0;34m(\u001b[0m\u001b[0mflags\u001b[0m\u001b[0;34m,\u001b[0m \u001b[0mcopy\u001b[0m\u001b[0;34m=\u001b[0m\u001b[0mcopy\u001b[0m\u001b[0;34m,\u001b[0m \u001b[0mtrack\u001b[0m\u001b[0;34m=\u001b[0m\u001b[0mtrack\u001b[0m\u001b[0;34m)\u001b[0m\u001b[0;34m]\u001b[0m\u001b[0;34m\u001b[0m\u001b[0m\n\u001b[0m\u001b[1;32m    468\u001b[0m         \u001b[0;31m# have first part already, only loop while more to receive\u001b[0m\u001b[0;34m\u001b[0m\u001b[0;34m\u001b[0m\u001b[0m\n",
      "\u001b[0;32mzmq/backend/cython/socket.pyx\u001b[0m in \u001b[0;36mzmq.backend.cython.socket.Socket.recv\u001b[0;34m()\u001b[0m\n",
      "\u001b[0;32mzmq/backend/cython/socket.pyx\u001b[0m in \u001b[0;36mzmq.backend.cython.socket.Socket.recv\u001b[0;34m()\u001b[0m\n",
      "\u001b[0;32mzmq/backend/cython/socket.pyx\u001b[0m in \u001b[0;36mzmq.backend.cython.socket._recv_copy\u001b[0;34m()\u001b[0m\n",
      "\u001b[0;32m/usr/local/lib/python3.5/dist-packages/zmq/backend/cython/checkrc.pxd\u001b[0m in \u001b[0;36mzmq.backend.cython.checkrc._check_rc\u001b[0;34m()\u001b[0m\n",
      "\u001b[0;31mKeyboardInterrupt\u001b[0m: ",
      "\nDuring handling of the above exception, another exception occurred:\n",
      "\u001b[0;31mKeyboardInterrupt\u001b[0m                         Traceback (most recent call last)",
      "\u001b[0;32m<ipython-input-1-a15dca1f1a5c>\u001b[0m in \u001b[0;36m<module>\u001b[0;34m\u001b[0m\n\u001b[1;32m      1\u001b[0m \u001b[0mprint\u001b[0m\u001b[0;34m(\u001b[0m\u001b[0;34m'Please choose a model: \\n1 -> {}\\n2 -> {}\\n3 -> {}\\n4 ->{}'\u001b[0m\u001b[0;34m.\u001b[0m\u001b[0mformat\u001b[0m\u001b[0;34m(\u001b[0m\u001b[0;34m'LogisticRegression by Sklearn'\u001b[0m\u001b[0;34m,\u001b[0m\u001b[0;34m'MLPClassifier by Sklearn'\u001b[0m\u001b[0;34m,\u001b[0m\u001b[0;34m'RandomForestClassifier by Sklearn'\u001b[0m\u001b[0;34m,\u001b[0m\u001b[0;34m'AutoSklearnClassifier by AutoSklearn'\u001b[0m\u001b[0;34m)\u001b[0m\u001b[0;34m)\u001b[0m\u001b[0;34m\u001b[0m\u001b[0m\n\u001b[0;32m----> 2\u001b[0;31m \u001b[0mmodel\u001b[0m \u001b[0;34m=\u001b[0m \u001b[0minput\u001b[0m\u001b[0;34m(\u001b[0m\u001b[0;34m'Please enter one number represents above model: '\u001b[0m\u001b[0;34m)\u001b[0m\u001b[0;34m\u001b[0m\u001b[0m\n\u001b[0m",
      "\u001b[0;32m/usr/local/lib/python3.5/dist-packages/ipykernel/kernelbase.py\u001b[0m in \u001b[0;36mraw_input\u001b[0;34m(self, prompt)\u001b[0m\n\u001b[1;32m    851\u001b[0m             \u001b[0mself\u001b[0m\u001b[0;34m.\u001b[0m\u001b[0m_parent_ident\u001b[0m\u001b[0;34m,\u001b[0m\u001b[0;34m\u001b[0m\u001b[0m\n\u001b[1;32m    852\u001b[0m             \u001b[0mself\u001b[0m\u001b[0;34m.\u001b[0m\u001b[0m_parent_header\u001b[0m\u001b[0;34m,\u001b[0m\u001b[0;34m\u001b[0m\u001b[0m\n\u001b[0;32m--> 853\u001b[0;31m             \u001b[0mpassword\u001b[0m\u001b[0;34m=\u001b[0m\u001b[0;32mFalse\u001b[0m\u001b[0;34m,\u001b[0m\u001b[0;34m\u001b[0m\u001b[0m\n\u001b[0m\u001b[1;32m    854\u001b[0m         )\n\u001b[1;32m    855\u001b[0m \u001b[0;34m\u001b[0m\u001b[0m\n",
      "\u001b[0;32m/usr/local/lib/python3.5/dist-packages/ipykernel/kernelbase.py\u001b[0m in \u001b[0;36m_input_request\u001b[0;34m(self, prompt, ident, parent, password)\u001b[0m\n\u001b[1;32m    881\u001b[0m             \u001b[0;32mexcept\u001b[0m \u001b[0mKeyboardInterrupt\u001b[0m\u001b[0;34m:\u001b[0m\u001b[0;34m\u001b[0m\u001b[0m\n\u001b[1;32m    882\u001b[0m                 \u001b[0;31m# re-raise KeyboardInterrupt, to truncate traceback\u001b[0m\u001b[0;34m\u001b[0m\u001b[0;34m\u001b[0m\u001b[0m\n\u001b[0;32m--> 883\u001b[0;31m                 \u001b[0;32mraise\u001b[0m \u001b[0mKeyboardInterrupt\u001b[0m\u001b[0;34m\u001b[0m\u001b[0m\n\u001b[0m\u001b[1;32m    884\u001b[0m             \u001b[0;32melse\u001b[0m\u001b[0;34m:\u001b[0m\u001b[0;34m\u001b[0m\u001b[0m\n\u001b[1;32m    885\u001b[0m                 \u001b[0;32mbreak\u001b[0m\u001b[0;34m\u001b[0m\u001b[0m\n",
      "\u001b[0;31mKeyboardInterrupt\u001b[0m: "
     ]
    }
   ],
   "source": [
    "print('Please choose a model: \\n1 -> {}\\n2 -> {}\\n3 -> {}\\n4 ->{}'.format('LogisticRegression by Sklearn','MLPClassifier by Sklearn','RandomForestClassifier by Sklearn','AutoSklearnClassifier by AutoSklearn'))\n",
    "model = input('Please enter one number represents above model: ')"
   ]
  },
  {
   "cell_type": "code",
   "execution_count": 6,
   "metadata": {},
   "outputs": [
    {
     "name": "stdout",
     "output_type": "stream",
     "text": [
      "Package                            Version    \r\n",
      "---------------------------------- -----------\r\n",
      "alabaster                          0.7.12     \r\n",
      "appdirs                            1.4.3      \r\n",
      "astroid                            1.6.5      \r\n",
      "aws-cfn-bootstrap                  1.4        \r\n",
      "awscli                             1.16.51    \r\n",
      "Babel                              2.6.0      \r\n",
      "backports-abc                      0.5        \r\n",
      "backports.functools-lru-cache      1.5        \r\n",
      "backports.shutil-get-terminal-size 1.0.0      \r\n",
      "bleach                             3.0.2      \r\n",
      "bokeh                              1.0.1      \r\n",
      "boto                               2.49.0     \r\n",
      "boto3                              1.9.50     \r\n",
      "botocore                           1.12.50    \r\n",
      "certifi                            2018.10.15 \r\n",
      "chardet                            3.0.4      \r\n",
      "cloudpickle                        0.6.1      \r\n",
      "colorama                           0.3.9      \r\n",
      "configparser                       3.5.0      \r\n",
      "coremltools                        2.0        \r\n",
      "cpplint                            1.3.0      \r\n",
      "cycler                             0.10.0     \r\n",
      "dask                               0.20.2     \r\n",
      "deap                               1.2.2      \r\n",
      "decorator                          4.3.0      \r\n",
      "defusedxml                         0.5.0      \r\n",
      "docutils                           0.14       \r\n",
      "entrypoints                        0.2.3      \r\n",
      "enum34                             1.1.6      \r\n",
      "environment-kernels                1.1.1      \r\n",
      "functools32                        3.2.3.post2\r\n",
      "future                             0.17.1     \r\n",
      "futures                            3.2.0      \r\n",
      "gmpy                               1.17       \r\n",
      "graphviz                           0.10.1     \r\n",
      "h5py                               2.6.0      \r\n",
      "idna                               2.7        \r\n",
      "imagesize                          1.1.0      \r\n",
      "ipaddress                          1.0.22     \r\n",
      "ipykernel                          4.10.0     \r\n",
      "ipyparallel                        6.2.3      \r\n",
      "ipython                            5.8.0      \r\n",
      "ipython-genutils                   0.2.0      \r\n",
      "ipywidgets                         7.4.2      \r\n",
      "isort                              4.3.4      \r\n",
      "Jinja2                             2.10       \r\n",
      "jmespath                           0.9.3      \r\n",
      "joblib                             0.9.4      \r\n",
      "jsonschema                         2.6.0      \r\n",
      "jupyter-client                     5.2.3      \r\n",
      "jupyter-console                    5.2.0      \r\n",
      "jupyter-core                       4.4.0      \r\n",
      "kiwisolver                         1.0.1      \r\n",
      "lazy-object-proxy                  1.3.1      \r\n",
      "lockfile                           0.12.2     \r\n",
      "MarkupSafe                         1.1.0      \r\n",
      "matplotlib                         2.2.3      \r\n",
      "mccabe                             0.6.1      \r\n",
      "mistune                            0.8.4      \r\n",
      "mlxtend                            0.14.0     \r\n",
      "mpmath                             0.19       \r\n",
      "nbconvert                          5.4.0      \r\n",
      "nbformat                           4.4.0      \r\n",
      "networkx                           2.2        \r\n",
      "nose                               1.3.7      \r\n",
      "notebook                           5.7.2      \r\n",
      "numpy                              1.15.4     \r\n",
      "packaging                          18.0       \r\n",
      "pandas                             0.23.4     \r\n",
      "pandocfilters                      1.4.2      \r\n",
      "pathlib2                           2.3.2      \r\n",
      "pexpect                            4.6.0      \r\n",
      "pickleshare                        0.7.5      \r\n",
      "Pillow                             5.3.0      \r\n",
      "pip                                18.1       \r\n",
      "prometheus-client                  0.4.2      \r\n",
      "prompt-toolkit                     1.0.15     \r\n",
      "protobuf                           3.6.1      \r\n",
      "ptyprocess                         0.6.0      \r\n",
      "pyasn1                             0.4.4      \r\n",
      "pydot                              1.3.0      \r\n",
      "pygal                              2.4.0      \r\n",
      "pyglet                             1.1.4      \r\n",
      "Pygments                           2.2.0      \r\n",
      "pylint                             1.9.3      \r\n",
      "pyparsing                          2.3.0      \r\n",
      "pystache                           0.5.4      \r\n",
      "Pyste                              0.9.10     \r\n",
      "python-daemon                      1.6.1      \r\n",
      "python-dateutil                    2.7.5      \r\n",
      "pytz                               2018.7     \r\n",
      "PyWavelets                         1.0.1      \r\n",
      "PyYAML                             3.13       \r\n",
      "pyzmq                              17.1.2     \r\n",
      "qtconsole                          4.4.3      \r\n",
      "requests                           2.20.1     \r\n",
      "roman                              2.0.0      \r\n",
      "rsa                                3.4.2      \r\n",
      "s3transfer                         0.1.13     \r\n",
      "scandir                            1.9.0      \r\n",
      "scikit-image                       0.14.1     \r\n",
      "scikit-learn                       0.20.0     \r\n",
      "scipy                              1.1.0      \r\n",
      "seaborn                            0.9.0      \r\n",
      "Send2Trash                         1.5.0      \r\n",
      "setuptools                         40.6.2     \r\n",
      "simplegeneric                      0.8.1      \r\n",
      "simplejson                         3.8.1      \r\n",
      "singledispatch                     3.4.0.3    \r\n",
      "six                                1.10.0     \r\n",
      "snowballstemmer                    1.2.1      \r\n",
      "Sphinx                             1.8.2      \r\n",
      "sphinx-rtd-theme                   0.1.9      \r\n",
      "sphinxcontrib-websupport           1.1.0      \r\n",
      "stopit                             1.1.2      \r\n",
      "subprocess32                       3.5.3      \r\n",
      "sympy                              0.7.6.1    \r\n",
      "terminado                          0.8.1      \r\n",
      "testpath                           0.4.2      \r\n",
      "toolz                              0.9.0      \r\n",
      "tornado                            5.1.1      \r\n",
      "TPOT                               0.9.5      \r\n",
      "tqdm                               4.28.1     \r\n",
      "traitlets                          4.3.2      \r\n",
      "typing                             3.6.6      \r\n",
      "update-checker                     0.16       \r\n",
      "urllib3                            1.24.1     \r\n",
      "wcwidth                            0.1.7      \r\n",
      "webencodings                       0.5.1      \r\n",
      "wheel                              0.32.3     \r\n",
      "widgetsnbextension                 3.4.2      \r\n",
      "wrapt                              1.10.11    \r\n",
      "xgboost                            0.81       \r\n"
     ]
    }
   ],
   "source": [
    "!pip2 list"
   ]
  },
  {
   "cell_type": "code",
   "execution_count": 3,
   "metadata": {},
   "outputs": [
    {
     "ename": "ImportError",
     "evalue": "No module named 'mlxtend'",
     "output_type": "error",
     "traceback": [
      "\u001b[0;31m---------------------------------------------------------------------------\u001b[0m",
      "\u001b[0;31mImportError\u001b[0m                               Traceback (most recent call last)",
      "\u001b[0;32m<ipython-input-3-87d910befb79>\u001b[0m in \u001b[0;36m<module>\u001b[0;34m\u001b[0m\n\u001b[0;32m----> 1\u001b[0;31m \u001b[0;32mimport\u001b[0m \u001b[0mmlxtend\u001b[0m\u001b[0;34m\u001b[0m\u001b[0m\n\u001b[0m",
      "\u001b[0;31mImportError\u001b[0m: No module named 'mlxtend'"
     ]
    }
   ],
   "source": [
    "import mlxtend"
   ]
  },
  {
   "cell_type": "code",
   "execution_count": null,
   "metadata": {},
   "outputs": [],
   "source": []
  }
 ],
 "metadata": {
  "kernelspec": {
   "display_name": "Python 3",
   "language": "python",
   "name": "python3"
  },
  "language_info": {
   "codemirror_mode": {
    "name": "ipython",
    "version": 3
   },
   "file_extension": ".py",
   "mimetype": "text/x-python",
   "name": "python",
   "nbconvert_exporter": "python",
   "pygments_lexer": "ipython3",
   "version": "3.6.4"
  }
 },
 "nbformat": 4,
 "nbformat_minor": 2
}
