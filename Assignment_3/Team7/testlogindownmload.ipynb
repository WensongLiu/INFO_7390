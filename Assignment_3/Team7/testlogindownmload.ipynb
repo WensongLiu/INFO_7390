{
 "cells": [
  {
   "cell_type": "code",
   "execution_count": 13,
   "metadata": {},
   "outputs": [],
   "source": [
    "import requests\n",
    "import http.cookiejar\n",
    "import re"
   ]
  },
  {
   "cell_type": "code",
   "execution_count": 3,
   "metadata": {},
   "outputs": [],
   "source": [
    "session = requests.session()\n",
    "session.cookies = http.cookiejar.LWPCookieJar('cookie')\n",
    "\n",
    "headers = {'Host':'freddiemac.embs.com',\n",
    "           'User-Agent':'Mozilla/5.0 (Windows NT 10.0; Win64; x64) AppleWebKit/537.36 (KHTML, like Gecko) Chrome/70.0.3538.102 Safari/537.36',\n",
    "           'Referer':'https://freddiemac.embs.com/FLoan/secure/login.php?pagename=download'}\n",
    "def get_cookie():\n",
    "\ttry:\n",
    "\t\tsession.cookies.load(ignore_discard = True)\n",
    "\texcept IOError:\n",
    "\t\tprint('Cannot load cookie!')\n",
    "\n",
    "def login(un, pwd):\n",
    "\t\"\"\"\n",
    "\tentering username and password\n",
    "\t\"\"\"\n",
    "\tauth_url = 'https://freddiemac.embs.com/FLoan/secure/auth.php'\n",
    "\tauth_data = {'pagename':'download','username': un,'password': pwd}\n",
    "\tresult = session.post(auth_url, data = auth_data, headers = headers, allow_redirects = False)\n",
    "\tterm_data = {'accept': 'Yes','action': 'acceptTandC','acceptSubmit': 'Continue'}\n",
    "\tdownload_url = 'https://freddiemac.embs.com/FLoan/Data/download.php'\n",
    "\tresponse = session.post(download_url, data = term_data, headers = headers, allow_redirects = False)\n",
    "\treturn response\n",
    "\n",
    "def isLogin():\n",
    "\turl = 'https://freddiemac.embs.com/FLoan/Data/download.php'\n",
    "\tlogin_code = session.get(url, headers = headers, allow_redirects = False).status_code\n",
    "\tif login_code == 200:\n",
    "\t\treturn True\n",
    "\telse:\n",
    "\t\treturn False\n",
    "\t\t"
   ]
  },
  {
   "cell_type": "code",
   "execution_count": 48,
   "metadata": {},
   "outputs": [],
   "source": [
    "\n",
    "def get_download_link(year,quater):\n",
    "    try:\n",
    "        year = int(year)\n",
    "    except ValueError:\n",
    "        print('year invalid!')\n",
    "    try:\n",
    "        quater = int(quater)\n",
    "    except ValueError:\n",
    "        print('quater invalid!')\n",
    "    if year < 1999 or year > 2017:\n",
    "        raise ValueError('year invalid. year should between 1999 and 2017')\n",
    "    if quater < 1 or quater > 4:\n",
    "        raise ValueError('quater invalid. quater should between 1 and 4')\n",
    "    url = 'https://freddiemac.embs.com/FLoan/Data/download.php'\n",
    "    response = session.get(url, headers = headers, allow_redirects = False)\n",
    "    pattern = re.compile('href=[^<>]*>',re.DOTALL)\n",
    "    links = pattern.findall(response.text)\n",
    "    domain = 'https://freddiemac.embs.com/FLoan/Data/'\n",
    "    yq = 'Q' + str(quater) + str(year)\n",
    "    pattern = re.compile('.+' + yq + '.+')\n",
    "    url = ''\n",
    "    for link in links:\n",
    "        if pattern.fullmatch(link) != None:\n",
    "            url = link\n",
    "            break\n",
    "    if url == '':\n",
    "        print('no such file!')\n",
    "        return None\n",
    "    url = url[5:len(url)-1]\n",
    "    download_link = domain + url\n",
    "    return download_link\n",
    "\n",
    "def download_from_url(url,filename):\n",
    "    response = session.get(url, headers = headers, allow_redirects = True)\n",
    "    with open(filename,'wb') as f:\n",
    "        f.write(response.content)\n"
   ]
  },
  {
   "cell_type": "code",
   "execution_count": 49,
   "metadata": {},
   "outputs": [
    {
     "data": {
      "text/plain": [
       "True"
      ]
     },
     "execution_count": 49,
     "metadata": {},
     "output_type": "execute_result"
    }
   ],
   "source": [
    "username = 'liu.wens@husky.neu.edu'\n",
    "password = '{pcMh2mm'\n",
    "login(username, password)\n",
    "isLogin()"
   ]
  },
  {
   "cell_type": "code",
   "execution_count": 50,
   "metadata": {},
   "outputs": [],
   "source": [
    "url = get_download_link(2015,1)\n",
    "download_from_url(url,'Q12005')"
   ]
  },
  {
   "cell_type": "code",
   "execution_count": 11,
   "metadata": {
    "collapsed": true
   },
   "outputs": [
    {
     "data": {
      "text/plain": [
       "\"<!DOCTYPE html>\\n<html>\\n\\n<head>\\r\\n<title>Freddie Mac Loan-Level Dataset</title>\\r\\n<link rel='stylesheet' type='text/css' href='/FLoan/app_corp.css'>\\r\\n<link rel='stylesheet' type='text/css' href='/FLoan/empty.css'>\\r\\n<link rel='stylesheet' type='text/css' href='/FLoan/empty2.css'>\\r\\n</head>\\r\\n<body class=''>\\r\\n<center>\\r\\n<div id='content-display' class='' >\\r\\n<div id='content-main' style='width:550px; text-align:left'>\\r\\n<P><H2>Loan-Level Dataset</H2></b>\\r\\n<table class='table1'><tr><th>Filename<th>Date<th>Size (bytes)</tr><tr><td><a href=download.php?f=historical_data1_Q11999&s=245188834>historical_data1_Q11999.zip</a></td><td>10/19/2018 13:06</td><td align=right>245,188,834</td></tr>\\r\\n<tr><td><a href=download.php?f=historical_data1_Q21999&s=179405350>historical_data1_Q21999.zip</a></td><td>10/19/2018 13:09</td><td align=right>179,405,350</td></tr>\\r\\n<tr><td><a href=download.php?f=historical_data1_Q31999&s=94329458>historical_data1_Q31999.zip</a></td><td>10/19/2018 13:11</td><td align=right>94,329,458</td></tr>\\r\\n<tr><td><a href=download.php?f=historical_data1_Q41999&s=65538277>historical_data1_Q41999.zip</a></td><td>10/19/2018 13:14</td><td align=right>65,538,277</td></tr>\\r\\n<tr><td><a href=download.php?f=historical_data1_Q12000&s=41794210>historical_data1_Q12000.zip</a></td><td>10/19/2018 13:06</td><td align=right>41,794,210</td></tr>\\r\\n<tr><td><a href=download.php?f=historical_data1_Q22000&s=53433484>historical_data1_Q22000.zip</a></td><td>10/19/2018 13:09</td><td align=right>53,433,484</td></tr>\\r\\n<tr><td><a href=download.php?f=historical_data1_Q32000&s=58701692>historical_data1_Q32000.zip</a></td><td>10/19/2018 13:11</td><td align=right>58,701,692</td></tr>\\r\\n<tr><td><a href=download.php?f=historical_data1_Q42000&s=64806193>historical_data1_Q42000.zip</a></td><td>10/19/2018 13:14</td><td align=right>64,806,193</td></tr>\\r\\n<tr><td><a href=download.php?f=historical_data1_Q12001&s=127374637>historical_data1_Q12001.zip</a></td><td>10/19/2018 13:06</td><td align=right>127,374,637</td></tr>\\r\\n<tr><td><a href=download.php?f=historical_data1_Q22001&s=166276779>historical_data1_Q22001.zip</a></td><td>10/19/2018 13:09</td><td align=right>166,276,779</td></tr>\\r\\n<tr><td><a href=download.php?f=historical_data1_Q32001&s=143477407>historical_data1_Q32001.zip</a></td><td>10/19/2018 13:11</td><td align=right>143,477,407</td></tr>\\r\\n<tr><td><a href=download.php?f=historical_data1_Q42001&s=239918740>historical_data1_Q42001.zip</a></td><td>10/19/2018 13:14</td><td align=right>239,918,740</td></tr>\\r\\n<tr><td><a href=download.php?f=historical_data1_Q12002&s=149740526>historical_data1_Q12002.zip</a></td><td>10/19/2018 13:06</td><td align=right>149,740,526</td></tr>\\r\\n<tr><td><a href=download.php?f=historical_data1_Q22002&s=128802569>historical_data1_Q22002.zip</a></td><td>10/19/2018 13:09</td><td align=right>128,802,569</td></tr>\\r\\n<tr><td><a href=download.php?f=historical_data1_Q32002&s=218042176>historical_data1_Q32002.zip</a></td><td>10/19/2018 13:12</td><td align=right>218,042,176</td></tr>\\r\\n<tr><td><a href=download.php?f=historical_data1_Q42002&s=326840487>historical_data1_Q42002.zip</a></td><td>10/19/2018 13:14</td><td align=right>326,840,487</td></tr>\\r\\n<tr><td><a href=download.php?f=historical_data1_Q12003&s=314164035>historical_data1_Q12003.zip</a></td><td>10/19/2018 13:07</td><td align=right>314,164,035</td></tr>\\r\\n<tr><td><a href=download.php?f=historical_data1_Q22003&s=474548398>historical_data1_Q22003.zip</a></td><td>10/19/2018 13:09</td><td align=right>474,548,398</td></tr>\\r\\n<tr><td><a href=download.php?f=historical_data1_Q32003&s=545998320>historical_data1_Q32003.zip</a></td><td>10/19/2018 13:12</td><td align=right>545,998,320</td></tr>\\r\\n<tr><td><a href=download.php?f=historical_data1_Q42003&s=231451383>historical_data1_Q42003.zip</a></td><td>10/19/2018 13:14</td><td align=right>231,451,383</td></tr>\\r\\n<tr><td><a href=download.php?f=historical_data1_Q12004&s=238697932>historical_data1_Q12004.zip</a></td><td>10/19/2018 13:07</td><td align=right>238,697,932</td></tr>\\r\\n<tr><td><a href=download.php?f=historical_data1_Q22004&s=271706310>historical_data1_Q22004.zip</a></td><td>10/19/2018 13:09</td><td align=right>271,706,310</td></tr>\\r\\n<tr><td><a href=download.php?f=historical_data1_Q32004&s=179228283>historical_data1_Q32004.zip</a></td><td>10/19/2018 13:12</td><td align=right>179,228,283</td></tr>\\r\\n<tr><td><a href=download.php?f=historical_data1_Q42004&s=213004229>historical_data1_Q42004.zip</a></td><td>10/19/2018 13:15</td><td align=right>213,004,229</td></tr>\\r\\n<tr><td><a href=download.php?f=historical_data1_Q12005&s=292380058>historical_data1_Q12005.zip</a></td><td>10/19/2018 13:07</td><td align=right>292,380,058</td></tr>\\r\\n<tr><td><a href=download.php?f=historical_data1_Q22005&s=330868332>historical_data1_Q22005.zip</a></td><td>10/19/2018 13:10</td><td align=right>330,868,332</td></tr>\\r\\n<tr><td><a href=download.php?f=historical_data1_Q32005&s=440364087>historical_data1_Q32005.zip</a></td><td>10/19/2018 13:12</td><td align=right>440,364,087</td></tr>\\r\\n<tr><td><a href=download.php?f=historical_data1_Q42005&s=305373831>historical_data1_Q42005.zip</a></td><td>10/19/2018 13:15</td><td align=right>305,373,831</td></tr>\\r\\n<tr><td><a href=download.php?f=historical_data1_Q12006&s=223955372>historical_data1_Q12006.zip</a></td><td>10/19/2018 13:07</td><td align=right>223,955,372</td></tr>\\r\\n<tr><td><a href=download.php?f=historical_data1_Q22006&s=211435151>historical_data1_Q22006.zip</a></td><td>10/19/2018 13:10</td><td align=right>211,435,151</td></tr>\\r\\n<tr><td><a href=download.php?f=historical_data1_Q32006&s=186256074>historical_data1_Q32006.zip</a></td><td>10/19/2018 13:13</td><td align=right>186,256,074</td></tr>\\r\\n<tr><td><a href=download.php?f=historical_data1_Q42006&s=211425783>historical_data1_Q42006.zip</a></td><td>10/19/2018 13:15</td><td align=right>211,425,783</td></tr>\\r\\n<tr><td><a href=download.php?f=historical_data1_Q12007&s=200770049>historical_data1_Q12007.zip</a></td><td>10/19/2018 13:07</td><td align=right>200,770,049</td></tr>\\r\\n<tr><td><a href=download.php?f=historical_data1_Q22007&s=222466068>historical_data1_Q22007.zip</a></td><td>10/19/2018 13:10</td><td align=right>222,466,068</td></tr>\\r\\n<tr><td><a href=download.php?f=historical_data1_Q32007&s=160405820>historical_data1_Q32007.zip</a></td><td>10/19/2018 13:13</td><td align=right>160,405,820</td></tr>\\r\\n<tr><td><a href=download.php?f=historical_data1_Q42007&s=169032178>historical_data1_Q42007.zip</a></td><td>10/19/2018 13:15</td><td align=right>169,032,178</td></tr>\\r\\n<tr><td><a href=download.php?f=historical_data1_Q12008&s=229410710>historical_data1_Q12008.zip</a></td><td>10/19/2018 13:08</td><td align=right>229,410,710</td></tr>\\r\\n<tr><td><a href=download.php?f=historical_data1_Q22008&s=191998131>historical_data1_Q22008.zip</a></td><td>10/19/2018 13:10</td><td align=right>191,998,131</td></tr>\\r\\n<tr><td><a href=download.php?f=historical_data1_Q32008&s=93211509>historical_data1_Q32008.zip</a></td><td>10/19/2018 13:13</td><td align=right>93,211,509</td></tr>\\r\\n<tr><td><a href=download.php?f=historical_data1_Q42008&s=94800548>historical_data1_Q42008.zip</a></td><td>10/19/2018 13:15</td><td align=right>94,800,548</td></tr>\\r\\n<tr><td><a href=download.php?f=historical_data1_Q12009&s=329210596>historical_data1_Q12009.zip</a></td><td>10/19/2018 13:08</td><td align=right>329,210,596</td></tr>\\r\\n<tr><td><a href=download.php?f=historical_data1_Q22009&s=407812402>historical_data1_Q22009.zip</a></td><td>10/19/2018 13:10</td><td align=right>407,812,402</td></tr>\\r\\n<tr><td><a href=download.php?f=historical_data1_Q32009&s=227481446>historical_data1_Q32009.zip</a></td><td>10/19/2018 13:13</td><td align=right>227,481,446</td></tr>\\r\\n<tr><td><a href=download.php?f=historical_data1_Q42009&s=205610137>historical_data1_Q42009.zip</a></td><td>10/19/2018 13:15</td><td align=right>205,610,137</td></tr>\\r\\n<tr><td><a href=download.php?f=historical_data1_Q12010&s=148871791>historical_data1_Q12010.zip</a></td><td>10/19/2018 13:08</td><td align=right>148,871,791</td></tr>\\r\\n<tr><td><a href=download.php?f=historical_data1_Q22010&s=150714727>historical_data1_Q22010.zip</a></td><td>10/19/2018 13:11</td><td align=right>150,714,727</td></tr>\\r\\n<tr><td><a href=download.php?f=historical_data1_Q32010&s=202328534>historical_data1_Q32010.zip</a></td><td>10/19/2018 13:13</td><td align=right>202,328,534</td></tr>\\r\\n<tr><td><a href=download.php?f=historical_data1_Q42010&s=243596728>historical_data1_Q42010.zip</a></td><td>10/19/2018 13:16</td><td align=right>243,596,728</td></tr>\\r\\n<tr><td><a href=download.php?f=historical_data1_Q12011&s=115708830>historical_data1_Q12011.zip</a></td><td>10/19/2018 13:08</td><td align=right>115,708,830</td></tr>\\r\\n<tr><td><a href=download.php?f=historical_data1_Q22011&s=97442737>historical_data1_Q22011.zip</a></td><td>10/19/2018 13:11</td><td align=right>97,442,737</td></tr>\\r\\n<tr><td><a href=download.php?f=historical_data1_Q32011&s=139133194>historical_data1_Q32011.zip</a></td><td>10/19/2018 13:13</td><td align=right>139,133,194</td></tr>\\r\\n<tr><td><a href=download.php?f=historical_data1_Q42011&s=177664862>historical_data1_Q42011.zip</a></td><td>10/19/2018 13:16</td><td align=right>177,664,862</td></tr>\\r\\n<tr><td><a href=download.php?f=historical_data1_Q12012&s=161364962>historical_data1_Q12012.zip</a></td><td>10/19/2018 13:08</td><td align=right>161,364,962</td></tr>\\r\\n<tr><td><a href=download.php?f=historical_data1_Q22012&s=173215245>historical_data1_Q22012.zip</a></td><td>10/19/2018 13:11</td><td align=right>173,215,245</td></tr>\\r\\n<tr><td><a href=download.php?f=historical_data1_Q32012&s=243106059>historical_data1_Q32012.zip</a></td><td>10/19/2018 13:13</td><td align=right>243,106,059</td></tr>\\r\\n<tr><td><a href=download.php?f=historical_data1_Q42012&s=254578146>historical_data1_Q42012.zip</a></td><td>10/19/2018 13:16</td><td align=right>254,578,146</td></tr>\\r\\n<tr><td><a href=download.php?f=historical_data1_Q12013&s=245085549>historical_data1_Q12013.zip</a></td><td>10/19/2018 13:08</td><td align=right>245,085,549</td></tr>\\r\\n<tr><td><a href=download.php?f=historical_data1_Q22013&s=228392769>historical_data1_Q22013.zip</a></td><td>10/19/2018 13:11</td><td align=right>228,392,769</td></tr>\\r\\n<tr><td><a href=download.php?f=historical_data1_Q32013&s=127139463>historical_data1_Q32013.zip</a></td><td>10/19/2018 13:13</td><td align=right>127,139,463</td></tr>\\r\\n<tr><td><a href=download.php?f=historical_data1_Q42013&s=99464244>historical_data1_Q42013.zip</a></td><td>10/19/2018 13:16</td><td align=right>99,464,244</td></tr>\\r\\n<tr><td><a href=download.php?f=historical_data1_Q12014&s=71430503>historical_data1_Q12014.zip</a></td><td>10/19/2018 13:08</td><td align=right>71,430,503</td></tr>\\r\\n<tr><td><a href=download.php?f=historical_data1_Q22014&s=100682088>historical_data1_Q22014.zip</a></td><td>10/19/2018 13:11</td><td align=right>100,682,088</td></tr>\\r\\n<tr><td><a href=download.php?f=historical_data1_Q32014&s=114221420>historical_data1_Q32014.zip</a></td><td>10/19/2018 13:14</td><td align=right>114,221,420</td></tr>\\r\\n<tr><td><a href=download.php?f=historical_data1_Q42014&s=100526460>historical_data1_Q42014.zip</a></td><td>10/19/2018 13:16</td><td align=right>100,526,460</td></tr>\\r\\n<tr><td><a href=download.php?f=historical_data1_Q12015&s=120981889>historical_data1_Q12015.zip</a></td><td>10/19/2018 13:08</td><td align=right>120,981,889</td></tr>\\r\\n<tr><td><a href=download.php?f=historical_data1_Q22015&s=128686612>historical_data1_Q22015.zip</a></td><td>10/19/2018 13:11</td><td align=right>128,686,612</td></tr>\\r\\n<tr><td><a href=download.php?f=historical_data1_Q32015&s=102714574>historical_data1_Q32015.zip</a></td><td>10/19/2018 13:14</td><td align=right>102,714,574</td></tr>\\r\\n<tr><td><a href=download.php?f=historical_data1_Q42015&s=88547109>historical_data1_Q42015.zip</a></td><td>10/19/2018 13:16</td><td align=right>88,547,109</td></tr>\\r\\n<tr><td><a href=download.php?f=historical_data1_Q12016&s=74856005>historical_data1_Q12016.zip</a></td><td>10/19/2018 13:09</td><td align=right>74,856,005</td></tr>\\r\\n<tr><td><a href=download.php?f=historical_data1_Q22016&s=98478818>historical_data1_Q22016.zip</a></td><td>10/19/2018 13:11</td><td align=right>98,478,818</td></tr>\\r\\n<tr><td><a href=download.php?f=historical_data1_Q32016&s=97972074>historical_data1_Q32016.zip</a></td><td>10/19/2018 13:14</td><td align=right>97,972,074</td></tr>\\r\\n<tr><td><a href=download.php?f=historical_data1_Q42016&s=81664775>historical_data1_Q42016.zip</a></td><td>10/19/2018 13:16</td><td align=right>81,664,775</td></tr>\\r\\n<tr><td><a href=download.php?f=historical_data1_Q12017&s=39077266>historical_data1_Q12017.zip</a></td><td>10/19/2018 13:09</td><td align=right>39,077,266</td></tr>\\r\\n<tr><td><a href=download.php?f=historical_data1_Q22017&s=33969709>historical_data1_Q22017.zip</a></td><td>10/19/2018 13:11</td><td align=right>33,969,709</td></tr>\\r\\n<tr><td><a href=download.php?f=historical_data1_Q32017&s=28277813>historical_data1_Q32017.zip</a></td><td>10/19/2018 13:14</td><td align=right>28,277,813</td></tr>\\r\\n<tr><td><a href=download.php?f=sample_1999&s=25438741>sample_1999.zip</a></td><td>10/19/2018 13:16</td><td align=right>25,438,741</td></tr>\\r\\n<tr><td><a href=download.php?f=sample_2000&s=14473414>sample_2000.zip</a></td><td>10/19/2018 13:16</td><td align=right>14,473,414</td></tr>\\r\\n<tr><td><a href=download.php?f=sample_2001&s=19565216>sample_2001.zip</a></td><td>10/19/2018 13:16</td><td align=right>19,565,216</td></tr>\\r\\n<tr><td><a href=download.php?f=sample_2002&s=24147069>sample_2002.zip</a></td><td>10/19/2018 13:16</td><td align=right>24,147,069</td></tr>\\r\\n<tr><td><a href=download.php?f=sample_2003&s=40500228>sample_2003.zip</a></td><td>10/19/2018 13:16</td><td align=right>40,500,228</td></tr>\\r\\n<tr><td><a href=download.php?f=sample_2004&s=40520402>sample_2004.zip</a></td><td>10/19/2018 13:16</td><td align=right>40,520,402</td></tr>\\r\\n<tr><td><a href=download.php?f=sample_2005&s=41073026>sample_2005.zip</a></td><td>10/19/2018 13:16</td><td align=right>41,073,026</td></tr>\\r\\n<tr><td><a href=download.php?f=sample_2006&s=33286483>sample_2006.zip</a></td><td>10/19/2018 13:16</td><td align=right>33,286,483</td></tr>\\r\\n<tr><td><a href=download.php?f=sample_2007&s=31029360>sample_2007.zip</a></td><td>10/19/2018 13:16</td><td align=right>31,029,360</td></tr>\\r\\n<tr><td><a href=download.php?f=sample_2008&s=25243310>sample_2008.zip</a></td><td>10/19/2018 13:16</td><td align=right>25,243,310</td></tr>\\r\\n<tr><td><a href=download.php?f=sample_2009&s=29742643>sample_2009.zip</a></td><td>10/19/2018 13:16</td><td align=right>29,742,643</td></tr>\\r\\n<tr><td><a href=download.php?f=sample_2010&s=29502562>sample_2010.zip</a></td><td>10/19/2018 13:16</td><td align=right>29,502,562</td></tr>\\r\\n<tr><td><a href=download.php?f=sample_2011&s=27895583>sample_2011.zip</a></td><td>10/19/2018 13:16</td><td align=right>27,895,583</td></tr>\\r\\n<tr><td><a href=download.php?f=sample_2012&s=31533051>sample_2012.zip</a></td><td>10/19/2018 13:16</td><td align=right>31,533,051</td></tr>\\r\\n<tr><td><a href=download.php?f=sample_2013&s=26626765>sample_2013.zip</a></td><td>10/19/2018 13:16</td><td align=right>26,626,765</td></tr>\\r\\n<tr><td><a href=download.php?f=sample_2014&s=20459253>sample_2014.zip</a></td><td>10/19/2018 13:16</td><td align=right>20,459,253</td></tr>\\r\\n<tr><td><a href=download.php?f=sample_2015&s=17376778>sample_2015.zip</a></td><td>10/19/2018 13:17</td><td align=right>17,376,778</td></tr>\\r\\n<tr><td><a href=download.php?f=sample_2016&s=12007433>sample_2016.zip</a></td><td>10/19/2018 13:17</td><td align=right>12,007,433</td></tr>\\r\\n<tr><td><a href=download.php?f=sample_2017&s=4621125>sample_2017.zip</a></td><td>10/19/2018 13:17</td><td align=right>4,621,125</td></tr>\\r\\n<tr><td><a href=download.php?f=harp_historical_data1&s=674250059>harp_historical_data1.zip</a></td><td>10/19/2018 13:06</td><td align=right>674,250,059</td></tr>\\r\\n<tr><td><a href=download.php?f=READ_ME&s=1281150>READ_ME.zip</a></td><td>10/19/2018 13:06</td><td align=right>1,281,150</td></tr>\\r\\n</table><form action='/FLoan/secure/login.php' method='post' class='fmform'>\\r\\n<input type=hidden name=option value='logout'>\\r\\n<p class='field clearfix'>\\r\\n<input type=submit name=logout value='Log Out' class='fmSubmit'>\\r\\n</p>\\r\\n</form>\\r\\n\\n\\n</div></div>\\n </body>\\n</html>\\n\\n\\n\""
      ]
     },
     "execution_count": 11,
     "metadata": {},
     "output_type": "execute_result"
    }
   ],
   "source": [
    "url = 'https://freddiemac.embs.com/FLoan/Data/download.php'\n",
    "response = session.get(url, headers = headers, allow_redirects = False)"
   ]
  },
  {
   "cell_type": "code",
   "execution_count": 20,
   "metadata": {},
   "outputs": [
    {
     "data": {
      "text/plain": [
       "\"<!DOCTYPE html>\\n<html>\\n\\n<head>\\r\\n<title>Freddie Mac Loan-Level Dataset</title>\\r\\n<link rel='stylesheet' type='text/css' href='/FLoan/app_corp.css'>\\r\\n<link rel='stylesheet' type='text/css' href='/FLoan/empty.css'>\\r\\n<link rel='stylesheet' type='text/css' href='/FLoan/empty2.css'>\\r\\n</head>\\r\\n<body class=''>\\r\\n<center>\\r\\n<div id='content-display' class='' >\\r\\n<div id='content-main' style='width:550px; text-align:left'>\\r\\n<P><H2>Loan-Level Dataset</H2></b>\\r\\n<table class='table1'><tr><th>Filename<th>Date<th>Size (bytes)</tr><tr><td><a href=download.php?f=historical_data1_Q11999&s=245188834>historical_data1_Q11999.zip</a></td><td>10/19/2018 13:06</td><td align=right>245,188,834</td></tr>\\r\\n<tr><td><a href=download.php?f=historical_data1_Q21999&s=179405350>historical_data1_Q21999.zip</a></td><td>10/19/2018 13:09</td><td align=right>179,405,350</td></tr>\\r\\n<tr><td><a href=download.php?f=historical_data1_Q31999&s=94329458>historical_data1_Q31999.zip</a></td><td>10/19/2018 13:11</td><td align=right>94,329,458</td></tr>\\r\\n<tr><td><a href=download.php?f=historical_data1_Q41999&s=65538277>historical_data1_Q41999.zip</a></td><td>10/19/2018 13:14</td><td align=right>65,538,277</td></tr>\\r\\n<tr><td><a href=download.php?f=historical_data1_Q12000&s=41794210>historical_data1_Q12000.zip</a></td><td>10/19/2018 13:06</td><td align=right>41,794,210</td></tr>\\r\\n<tr><td><a href=download.php?f=historical_data1_Q22000&s=53433484>historical_data1_Q22000.zip</a></td><td>10/19/2018 13:09</td><td align=right>53,433,484</td></tr>\\r\\n<tr><td><a href=download.php?f=historical_data1_Q32000&s=58701692>historical_data1_Q32000.zip</a></td><td>10/19/2018 13:11</td><td align=right>58,701,692</td></tr>\\r\\n<tr><td><a href=download.php?f=historical_data1_Q42000&s=64806193>historical_data1_Q42000.zip</a></td><td>10/19/2018 13:14</td><td align=right>64,806,193</td></tr>\\r\\n<tr><td><a href=download.php?f=historical_data1_Q12001&s=127374637>historical_data1_Q12001.zip</a></td><td>10/19/2018 13:06</td><td align=right>127,374,637</td></tr>\\r\\n<tr><td><a href=download.php?f=historical_data1_Q22001&s=166276779>historical_data1_Q22001.zip</a></td><td>10/19/2018 13:09</td><td align=right>166,276,779</td></tr>\\r\\n<tr><td><a href=download.php?f=historical_data1_Q32001&s=143477407>historical_data1_Q32001.zip</a></td><td>10/19/2018 13:11</td><td align=right>143,477,407</td></tr>\\r\\n<tr><td><a href=download.php?f=historical_data1_Q42001&s=239918740>historical_data1_Q42001.zip</a></td><td>10/19/2018 13:14</td><td align=right>239,918,740</td></tr>\\r\\n<tr><td><a href=download.php?f=historical_data1_Q12002&s=149740526>historical_data1_Q12002.zip</a></td><td>10/19/2018 13:06</td><td align=right>149,740,526</td></tr>\\r\\n<tr><td><a href=download.php?f=historical_data1_Q22002&s=128802569>historical_data1_Q22002.zip</a></td><td>10/19/2018 13:09</td><td align=right>128,802,569</td></tr>\\r\\n<tr><td><a href=download.php?f=historical_data1_Q32002&s=218042176>historical_data1_Q32002.zip</a></td><td>10/19/2018 13:12</td><td align=right>218,042,176</td></tr>\\r\\n<tr><td><a href=download.php?f=historical_data1_Q42002&s=326840487>historical_data1_Q42002.zip</a></td><td>10/19/2018 13:14</td><td align=right>326,840,487</td></tr>\\r\\n<tr><td><a href=download.php?f=historical_data1_Q12003&s=314164035>historical_data1_Q12003.zip</a></td><td>10/19/2018 13:07</td><td align=right>314,164,035</td></tr>\\r\\n<tr><td><a href=download.php?f=historical_data1_Q22003&s=474548398>historical_data1_Q22003.zip</a></td><td>10/19/2018 13:09</td><td align=right>474,548,398</td></tr>\\r\\n<tr><td><a href=download.php?f=historical_data1_Q32003&s=545998320>historical_data1_Q32003.zip</a></td><td>10/19/2018 13:12</td><td align=right>545,998,320</td></tr>\\r\\n<tr><td><a href=download.php?f=historical_data1_Q42003&s=231451383>historical_data1_Q42003.zip</a></td><td>10/19/2018 13:14</td><td align=right>231,451,383</td></tr>\\r\\n<tr><td><a href=download.php?f=historical_data1_Q12004&s=238697932>historical_data1_Q12004.zip</a></td><td>10/19/2018 13:07</td><td align=right>238,697,932</td></tr>\\r\\n<tr><td><a href=download.php?f=historical_data1_Q22004&s=271706310>historical_data1_Q22004.zip</a></td><td>10/19/2018 13:09</td><td align=right>271,706,310</td></tr>\\r\\n<tr><td><a href=download.php?f=historical_data1_Q32004&s=179228283>historical_data1_Q32004.zip</a></td><td>10/19/2018 13:12</td><td align=right>179,228,283</td></tr>\\r\\n<tr><td><a href=download.php?f=historical_data1_Q42004&s=213004229>historical_data1_Q42004.zip</a></td><td>10/19/2018 13:15</td><td align=right>213,004,229</td></tr>\\r\\n<tr><td><a href=download.php?f=historical_data1_Q12005&s=292380058>historical_data1_Q12005.zip</a></td><td>10/19/2018 13:07</td><td align=right>292,380,058</td></tr>\\r\\n<tr><td><a href=download.php?f=historical_data1_Q22005&s=330868332>historical_data1_Q22005.zip</a></td><td>10/19/2018 13:10</td><td align=right>330,868,332</td></tr>\\r\\n<tr><td><a href=download.php?f=historical_data1_Q32005&s=440364087>historical_data1_Q32005.zip</a></td><td>10/19/2018 13:12</td><td align=right>440,364,087</td></tr>\\r\\n<tr><td><a href=download.php?f=historical_data1_Q42005&s=305373831>historical_data1_Q42005.zip</a></td><td>10/19/2018 13:15</td><td align=right>305,373,831</td></tr>\\r\\n<tr><td><a href=download.php?f=historical_data1_Q12006&s=223955372>historical_data1_Q12006.zip</a></td><td>10/19/2018 13:07</td><td align=right>223,955,372</td></tr>\\r\\n<tr><td><a href=download.php?f=historical_data1_Q22006&s=211435151>historical_data1_Q22006.zip</a></td><td>10/19/2018 13:10</td><td align=right>211,435,151</td></tr>\\r\\n<tr><td><a href=download.php?f=historical_data1_Q32006&s=186256074>historical_data1_Q32006.zip</a></td><td>10/19/2018 13:13</td><td align=right>186,256,074</td></tr>\\r\\n<tr><td><a href=download.php?f=historical_data1_Q42006&s=211425783>historical_data1_Q42006.zip</a></td><td>10/19/2018 13:15</td><td align=right>211,425,783</td></tr>\\r\\n<tr><td><a href=download.php?f=historical_data1_Q12007&s=200770049>historical_data1_Q12007.zip</a></td><td>10/19/2018 13:07</td><td align=right>200,770,049</td></tr>\\r\\n<tr><td><a href=download.php?f=historical_data1_Q22007&s=222466068>historical_data1_Q22007.zip</a></td><td>10/19/2018 13:10</td><td align=right>222,466,068</td></tr>\\r\\n<tr><td><a href=download.php?f=historical_data1_Q32007&s=160405820>historical_data1_Q32007.zip</a></td><td>10/19/2018 13:13</td><td align=right>160,405,820</td></tr>\\r\\n<tr><td><a href=download.php?f=historical_data1_Q42007&s=169032178>historical_data1_Q42007.zip</a></td><td>10/19/2018 13:15</td><td align=right>169,032,178</td></tr>\\r\\n<tr><td><a href=download.php?f=historical_data1_Q12008&s=229410710>historical_data1_Q12008.zip</a></td><td>10/19/2018 13:08</td><td align=right>229,410,710</td></tr>\\r\\n<tr><td><a href=download.php?f=historical_data1_Q22008&s=191998131>historical_data1_Q22008.zip</a></td><td>10/19/2018 13:10</td><td align=right>191,998,131</td></tr>\\r\\n<tr><td><a href=download.php?f=historical_data1_Q32008&s=93211509>historical_data1_Q32008.zip</a></td><td>10/19/2018 13:13</td><td align=right>93,211,509</td></tr>\\r\\n<tr><td><a href=download.php?f=historical_data1_Q42008&s=94800548>historical_data1_Q42008.zip</a></td><td>10/19/2018 13:15</td><td align=right>94,800,548</td></tr>\\r\\n<tr><td><a href=download.php?f=historical_data1_Q12009&s=329210596>historical_data1_Q12009.zip</a></td><td>10/19/2018 13:08</td><td align=right>329,210,596</td></tr>\\r\\n<tr><td><a href=download.php?f=historical_data1_Q22009&s=407812402>historical_data1_Q22009.zip</a></td><td>10/19/2018 13:10</td><td align=right>407,812,402</td></tr>\\r\\n<tr><td><a href=download.php?f=historical_data1_Q32009&s=227481446>historical_data1_Q32009.zip</a></td><td>10/19/2018 13:13</td><td align=right>227,481,446</td></tr>\\r\\n<tr><td><a href=download.php?f=historical_data1_Q42009&s=205610137>historical_data1_Q42009.zip</a></td><td>10/19/2018 13:15</td><td align=right>205,610,137</td></tr>\\r\\n<tr><td><a href=download.php?f=historical_data1_Q12010&s=148871791>historical_data1_Q12010.zip</a></td><td>10/19/2018 13:08</td><td align=right>148,871,791</td></tr>\\r\\n<tr><td><a href=download.php?f=historical_data1_Q22010&s=150714727>historical_data1_Q22010.zip</a></td><td>10/19/2018 13:11</td><td align=right>150,714,727</td></tr>\\r\\n<tr><td><a href=download.php?f=historical_data1_Q32010&s=202328534>historical_data1_Q32010.zip</a></td><td>10/19/2018 13:13</td><td align=right>202,328,534</td></tr>\\r\\n<tr><td><a href=download.php?f=historical_data1_Q42010&s=243596728>historical_data1_Q42010.zip</a></td><td>10/19/2018 13:16</td><td align=right>243,596,728</td></tr>\\r\\n<tr><td><a href=download.php?f=historical_data1_Q12011&s=115708830>historical_data1_Q12011.zip</a></td><td>10/19/2018 13:08</td><td align=right>115,708,830</td></tr>\\r\\n<tr><td><a href=download.php?f=historical_data1_Q22011&s=97442737>historical_data1_Q22011.zip</a></td><td>10/19/2018 13:11</td><td align=right>97,442,737</td></tr>\\r\\n<tr><td><a href=download.php?f=historical_data1_Q32011&s=139133194>historical_data1_Q32011.zip</a></td><td>10/19/2018 13:13</td><td align=right>139,133,194</td></tr>\\r\\n<tr><td><a href=download.php?f=historical_data1_Q42011&s=177664862>historical_data1_Q42011.zip</a></td><td>10/19/2018 13:16</td><td align=right>177,664,862</td></tr>\\r\\n<tr><td><a href=download.php?f=historical_data1_Q12012&s=161364962>historical_data1_Q12012.zip</a></td><td>10/19/2018 13:08</td><td align=right>161,364,962</td></tr>\\r\\n<tr><td><a href=download.php?f=historical_data1_Q22012&s=173215245>historical_data1_Q22012.zip</a></td><td>10/19/2018 13:11</td><td align=right>173,215,245</td></tr>\\r\\n<tr><td><a href=download.php?f=historical_data1_Q32012&s=243106059>historical_data1_Q32012.zip</a></td><td>10/19/2018 13:13</td><td align=right>243,106,059</td></tr>\\r\\n<tr><td><a href=download.php?f=historical_data1_Q42012&s=254578146>historical_data1_Q42012.zip</a></td><td>10/19/2018 13:16</td><td align=right>254,578,146</td></tr>\\r\\n<tr><td><a href=download.php?f=historical_data1_Q12013&s=245085549>historical_data1_Q12013.zip</a></td><td>10/19/2018 13:08</td><td align=right>245,085,549</td></tr>\\r\\n<tr><td><a href=download.php?f=historical_data1_Q22013&s=228392769>historical_data1_Q22013.zip</a></td><td>10/19/2018 13:11</td><td align=right>228,392,769</td></tr>\\r\\n<tr><td><a href=download.php?f=historical_data1_Q32013&s=127139463>historical_data1_Q32013.zip</a></td><td>10/19/2018 13:13</td><td align=right>127,139,463</td></tr>\\r\\n<tr><td><a href=download.php?f=historical_data1_Q42013&s=99464244>historical_data1_Q42013.zip</a></td><td>10/19/2018 13:16</td><td align=right>99,464,244</td></tr>\\r\\n<tr><td><a href=download.php?f=historical_data1_Q12014&s=71430503>historical_data1_Q12014.zip</a></td><td>10/19/2018 13:08</td><td align=right>71,430,503</td></tr>\\r\\n<tr><td><a href=download.php?f=historical_data1_Q22014&s=100682088>historical_data1_Q22014.zip</a></td><td>10/19/2018 13:11</td><td align=right>100,682,088</td></tr>\\r\\n<tr><td><a href=download.php?f=historical_data1_Q32014&s=114221420>historical_data1_Q32014.zip</a></td><td>10/19/2018 13:14</td><td align=right>114,221,420</td></tr>\\r\\n<tr><td><a href=download.php?f=historical_data1_Q42014&s=100526460>historical_data1_Q42014.zip</a></td><td>10/19/2018 13:16</td><td align=right>100,526,460</td></tr>\\r\\n<tr><td><a href=download.php?f=historical_data1_Q12015&s=120981889>historical_data1_Q12015.zip</a></td><td>10/19/2018 13:08</td><td align=right>120,981,889</td></tr>\\r\\n<tr><td><a href=download.php?f=historical_data1_Q22015&s=128686612>historical_data1_Q22015.zip</a></td><td>10/19/2018 13:11</td><td align=right>128,686,612</td></tr>\\r\\n<tr><td><a href=download.php?f=historical_data1_Q32015&s=102714574>historical_data1_Q32015.zip</a></td><td>10/19/2018 13:14</td><td align=right>102,714,574</td></tr>\\r\\n<tr><td><a href=download.php?f=historical_data1_Q42015&s=88547109>historical_data1_Q42015.zip</a></td><td>10/19/2018 13:16</td><td align=right>88,547,109</td></tr>\\r\\n<tr><td><a href=download.php?f=historical_data1_Q12016&s=74856005>historical_data1_Q12016.zip</a></td><td>10/19/2018 13:09</td><td align=right>74,856,005</td></tr>\\r\\n<tr><td><a href=download.php?f=historical_data1_Q22016&s=98478818>historical_data1_Q22016.zip</a></td><td>10/19/2018 13:11</td><td align=right>98,478,818</td></tr>\\r\\n<tr><td><a href=download.php?f=historical_data1_Q32016&s=97972074>historical_data1_Q32016.zip</a></td><td>10/19/2018 13:14</td><td align=right>97,972,074</td></tr>\\r\\n<tr><td><a href=download.php?f=historical_data1_Q42016&s=81664775>historical_data1_Q42016.zip</a></td><td>10/19/2018 13:16</td><td align=right>81,664,775</td></tr>\\r\\n<tr><td><a href=download.php?f=historical_data1_Q12017&s=39077266>historical_data1_Q12017.zip</a></td><td>10/19/2018 13:09</td><td align=right>39,077,266</td></tr>\\r\\n<tr><td><a href=download.php?f=historical_data1_Q22017&s=33969709>historical_data1_Q22017.zip</a></td><td>10/19/2018 13:11</td><td align=right>33,969,709</td></tr>\\r\\n<tr><td><a href=download.php?f=historical_data1_Q32017&s=28277813>historical_data1_Q32017.zip</a></td><td>10/19/2018 13:14</td><td align=right>28,277,813</td></tr>\\r\\n<tr><td><a href=download.php?f=sample_1999&s=25438741>sample_1999.zip</a></td><td>10/19/2018 13:16</td><td align=right>25,438,741</td></tr>\\r\\n<tr><td><a href=download.php?f=sample_2000&s=14473414>sample_2000.zip</a></td><td>10/19/2018 13:16</td><td align=right>14,473,414</td></tr>\\r\\n<tr><td><a href=download.php?f=sample_2001&s=19565216>sample_2001.zip</a></td><td>10/19/2018 13:16</td><td align=right>19,565,216</td></tr>\\r\\n<tr><td><a href=download.php?f=sample_2002&s=24147069>sample_2002.zip</a></td><td>10/19/2018 13:16</td><td align=right>24,147,069</td></tr>\\r\\n<tr><td><a href=download.php?f=sample_2003&s=40500228>sample_2003.zip</a></td><td>10/19/2018 13:16</td><td align=right>40,500,228</td></tr>\\r\\n<tr><td><a href=download.php?f=sample_2004&s=40520402>sample_2004.zip</a></td><td>10/19/2018 13:16</td><td align=right>40,520,402</td></tr>\\r\\n<tr><td><a href=download.php?f=sample_2005&s=41073026>sample_2005.zip</a></td><td>10/19/2018 13:16</td><td align=right>41,073,026</td></tr>\\r\\n<tr><td><a href=download.php?f=sample_2006&s=33286483>sample_2006.zip</a></td><td>10/19/2018 13:16</td><td align=right>33,286,483</td></tr>\\r\\n<tr><td><a href=download.php?f=sample_2007&s=31029360>sample_2007.zip</a></td><td>10/19/2018 13:16</td><td align=right>31,029,360</td></tr>\\r\\n<tr><td><a href=download.php?f=sample_2008&s=25243310>sample_2008.zip</a></td><td>10/19/2018 13:16</td><td align=right>25,243,310</td></tr>\\r\\n<tr><td><a href=download.php?f=sample_2009&s=29742643>sample_2009.zip</a></td><td>10/19/2018 13:16</td><td align=right>29,742,643</td></tr>\\r\\n<tr><td><a href=download.php?f=sample_2010&s=29502562>sample_2010.zip</a></td><td>10/19/2018 13:16</td><td align=right>29,502,562</td></tr>\\r\\n<tr><td><a href=download.php?f=sample_2011&s=27895583>sample_2011.zip</a></td><td>10/19/2018 13:16</td><td align=right>27,895,583</td></tr>\\r\\n<tr><td><a href=download.php?f=sample_2012&s=31533051>sample_2012.zip</a></td><td>10/19/2018 13:16</td><td align=right>31,533,051</td></tr>\\r\\n<tr><td><a href=download.php?f=sample_2013&s=26626765>sample_2013.zip</a></td><td>10/19/2018 13:16</td><td align=right>26,626,765</td></tr>\\r\\n<tr><td><a href=download.php?f=sample_2014&s=20459253>sample_2014.zip</a></td><td>10/19/2018 13:16</td><td align=right>20,459,253</td></tr>\\r\\n<tr><td><a href=download.php?f=sample_2015&s=17376778>sample_2015.zip</a></td><td>10/19/2018 13:17</td><td align=right>17,376,778</td></tr>\\r\\n<tr><td><a href=download.php?f=sample_2016&s=12007433>sample_2016.zip</a></td><td>10/19/2018 13:17</td><td align=right>12,007,433</td></tr>\\r\\n<tr><td><a href=download.php?f=sample_2017&s=4621125>sample_2017.zip</a></td><td>10/19/2018 13:17</td><td align=right>4,621,125</td></tr>\\r\\n<tr><td><a href=download.php?f=harp_historical_data1&s=674250059>harp_historical_data1.zip</a></td><td>10/19/2018 13:06</td><td align=right>674,250,059</td></tr>\\r\\n<tr><td><a href=download.php?f=READ_ME&s=1281150>READ_ME.zip</a></td><td>10/19/2018 13:06</td><td align=right>1,281,150</td></tr>\\r\\n</table><form action='/FLoan/secure/login.php' method='post' class='fmform'>\\r\\n<input type=hidden name=option value='logout'>\\r\\n<p class='field clearfix'>\\r\\n<input type=submit name=logout value='Log Out' class='fmSubmit'>\\r\\n</p>\\r\\n</form>\\r\\n\\n\\n</div></div>\\n </body>\\n</html>\\n\\n\\n\""
      ]
     },
     "execution_count": 20,
     "metadata": {},
     "output_type": "execute_result"
    }
   ],
   "source": [
    "response.text"
   ]
  },
  {
   "cell_type": "code",
   "execution_count": 36,
   "metadata": {},
   "outputs": [],
   "source": [
    "pattern = re.compile('href=[^<>]*>',re.DOTALL)\n",
    "links = pattern.findall(response.text)"
   ]
  },
  {
   "cell_type": "code",
   "execution_count": 37,
   "metadata": {},
   "outputs": [
    {
     "name": "stdout",
     "output_type": "stream",
     "text": [
      "[\"href='/FLoan/app_corp.css'>\", \"href='/FLoan/empty.css'>\", \"href='/FLoan/empty2.css'>\", 'href=download.php?f=historical_data1_Q11999&s=245188834>', 'href=download.php?f=historical_data1_Q21999&s=179405350>', 'href=download.php?f=historical_data1_Q31999&s=94329458>', 'href=download.php?f=historical_data1_Q41999&s=65538277>', 'href=download.php?f=historical_data1_Q12000&s=41794210>', 'href=download.php?f=historical_data1_Q22000&s=53433484>', 'href=download.php?f=historical_data1_Q32000&s=58701692>', 'href=download.php?f=historical_data1_Q42000&s=64806193>', 'href=download.php?f=historical_data1_Q12001&s=127374637>', 'href=download.php?f=historical_data1_Q22001&s=166276779>', 'href=download.php?f=historical_data1_Q32001&s=143477407>', 'href=download.php?f=historical_data1_Q42001&s=239918740>', 'href=download.php?f=historical_data1_Q12002&s=149740526>', 'href=download.php?f=historical_data1_Q22002&s=128802569>', 'href=download.php?f=historical_data1_Q32002&s=218042176>', 'href=download.php?f=historical_data1_Q42002&s=326840487>', 'href=download.php?f=historical_data1_Q12003&s=314164035>', 'href=download.php?f=historical_data1_Q22003&s=474548398>', 'href=download.php?f=historical_data1_Q32003&s=545998320>', 'href=download.php?f=historical_data1_Q42003&s=231451383>', 'href=download.php?f=historical_data1_Q12004&s=238697932>', 'href=download.php?f=historical_data1_Q22004&s=271706310>', 'href=download.php?f=historical_data1_Q32004&s=179228283>', 'href=download.php?f=historical_data1_Q42004&s=213004229>', 'href=download.php?f=historical_data1_Q12005&s=292380058>', 'href=download.php?f=historical_data1_Q22005&s=330868332>', 'href=download.php?f=historical_data1_Q32005&s=440364087>', 'href=download.php?f=historical_data1_Q42005&s=305373831>', 'href=download.php?f=historical_data1_Q12006&s=223955372>', 'href=download.php?f=historical_data1_Q22006&s=211435151>', 'href=download.php?f=historical_data1_Q32006&s=186256074>', 'href=download.php?f=historical_data1_Q42006&s=211425783>', 'href=download.php?f=historical_data1_Q12007&s=200770049>', 'href=download.php?f=historical_data1_Q22007&s=222466068>', 'href=download.php?f=historical_data1_Q32007&s=160405820>', 'href=download.php?f=historical_data1_Q42007&s=169032178>', 'href=download.php?f=historical_data1_Q12008&s=229410710>', 'href=download.php?f=historical_data1_Q22008&s=191998131>', 'href=download.php?f=historical_data1_Q32008&s=93211509>', 'href=download.php?f=historical_data1_Q42008&s=94800548>', 'href=download.php?f=historical_data1_Q12009&s=329210596>', 'href=download.php?f=historical_data1_Q22009&s=407812402>', 'href=download.php?f=historical_data1_Q32009&s=227481446>', 'href=download.php?f=historical_data1_Q42009&s=205610137>', 'href=download.php?f=historical_data1_Q12010&s=148871791>', 'href=download.php?f=historical_data1_Q22010&s=150714727>', 'href=download.php?f=historical_data1_Q32010&s=202328534>', 'href=download.php?f=historical_data1_Q42010&s=243596728>', 'href=download.php?f=historical_data1_Q12011&s=115708830>', 'href=download.php?f=historical_data1_Q22011&s=97442737>', 'href=download.php?f=historical_data1_Q32011&s=139133194>', 'href=download.php?f=historical_data1_Q42011&s=177664862>', 'href=download.php?f=historical_data1_Q12012&s=161364962>', 'href=download.php?f=historical_data1_Q22012&s=173215245>', 'href=download.php?f=historical_data1_Q32012&s=243106059>', 'href=download.php?f=historical_data1_Q42012&s=254578146>', 'href=download.php?f=historical_data1_Q12013&s=245085549>', 'href=download.php?f=historical_data1_Q22013&s=228392769>', 'href=download.php?f=historical_data1_Q32013&s=127139463>', 'href=download.php?f=historical_data1_Q42013&s=99464244>', 'href=download.php?f=historical_data1_Q12014&s=71430503>', 'href=download.php?f=historical_data1_Q22014&s=100682088>', 'href=download.php?f=historical_data1_Q32014&s=114221420>', 'href=download.php?f=historical_data1_Q42014&s=100526460>', 'href=download.php?f=historical_data1_Q12015&s=120981889>', 'href=download.php?f=historical_data1_Q22015&s=128686612>', 'href=download.php?f=historical_data1_Q32015&s=102714574>', 'href=download.php?f=historical_data1_Q42015&s=88547109>', 'href=download.php?f=historical_data1_Q12016&s=74856005>', 'href=download.php?f=historical_data1_Q22016&s=98478818>', 'href=download.php?f=historical_data1_Q32016&s=97972074>', 'href=download.php?f=historical_data1_Q42016&s=81664775>', 'href=download.php?f=historical_data1_Q12017&s=39077266>', 'href=download.php?f=historical_data1_Q22017&s=33969709>', 'href=download.php?f=historical_data1_Q32017&s=28277813>', 'href=download.php?f=sample_1999&s=25438741>', 'href=download.php?f=sample_2000&s=14473414>', 'href=download.php?f=sample_2001&s=19565216>', 'href=download.php?f=sample_2002&s=24147069>', 'href=download.php?f=sample_2003&s=40500228>', 'href=download.php?f=sample_2004&s=40520402>', 'href=download.php?f=sample_2005&s=41073026>', 'href=download.php?f=sample_2006&s=33286483>', 'href=download.php?f=sample_2007&s=31029360>', 'href=download.php?f=sample_2008&s=25243310>', 'href=download.php?f=sample_2009&s=29742643>', 'href=download.php?f=sample_2010&s=29502562>', 'href=download.php?f=sample_2011&s=27895583>', 'href=download.php?f=sample_2012&s=31533051>', 'href=download.php?f=sample_2013&s=26626765>', 'href=download.php?f=sample_2014&s=20459253>', 'href=download.php?f=sample_2015&s=17376778>', 'href=download.php?f=sample_2016&s=12007433>', 'href=download.php?f=sample_2017&s=4621125>', 'href=download.php?f=harp_historical_data1&s=674250059>', 'href=download.php?f=READ_ME&s=1281150>']\n"
     ]
    }
   ],
   "source": [
    "print(links)"
   ]
  },
  {
   "cell_type": "code",
   "execution_count": 39,
   "metadata": {},
   "outputs": [],
   "source": [
    "url = 'href=download.php?f=READ_ME&s=1281150>'"
   ]
  },
  {
   "cell_type": "code",
   "execution_count": 43,
   "metadata": {},
   "outputs": [
    {
     "name": "stdout",
     "output_type": "stream",
     "text": [
      "download.php?f=READ_ME&s=1281150\n"
     ]
    }
   ],
   "source": [
    "url = 'href=download.php?f=READ_ME&s=1281150>'\n",
    "url = url[5:len(url)-1]\n",
    "print(url)"
   ]
  },
  {
   "cell_type": "code",
   "execution_count": null,
   "metadata": {},
   "outputs": [],
   "source": []
  }
 ],
 "metadata": {
  "kernelspec": {
   "display_name": "Python 3",
   "language": "python",
   "name": "python3"
  },
  "language_info": {
   "codemirror_mode": {
    "name": "ipython",
    "version": 3
   },
   "file_extension": ".py",
   "mimetype": "text/x-python",
   "name": "python",
   "nbconvert_exporter": "python",
   "pygments_lexer": "ipython3",
   "version": "3.6.4"
  }
 },
 "nbformat": 4,
 "nbformat_minor": 2
}
