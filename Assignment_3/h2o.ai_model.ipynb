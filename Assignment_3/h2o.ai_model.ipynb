{
 "cells": [
  {
   "cell_type": "code",
   "execution_count": 1,
   "metadata": {},
   "outputs": [
    {
     "name": "stdout",
     "output_type": "stream",
     "text": [
      "Checking whether there is an H2O instance running at http://localhost:54321. connected.\n"
     ]
    },
    {
     "data": {
      "text/html": [
       "<div style=\"overflow:auto\"><table style=\"width:50%\"><tr><td>H2O cluster uptime:</td>\n",
       "<td>2 hours 15 mins</td></tr>\n",
       "<tr><td>H2O cluster timezone:</td>\n",
       "<td>America/New_York</td></tr>\n",
       "<tr><td>H2O data parsing timezone:</td>\n",
       "<td>UTC</td></tr>\n",
       "<tr><td>H2O cluster version:</td>\n",
       "<td>3.22.0.2</td></tr>\n",
       "<tr><td>H2O cluster version age:</td>\n",
       "<td>6 days </td></tr>\n",
       "<tr><td>H2O cluster name:</td>\n",
       "<td>H2O_from_python_G_nybnsb</td></tr>\n",
       "<tr><td>H2O cluster total nodes:</td>\n",
       "<td>1</td></tr>\n",
       "<tr><td>H2O cluster free memory:</td>\n",
       "<td>915 Mb</td></tr>\n",
       "<tr><td>H2O cluster total cores:</td>\n",
       "<td>4</td></tr>\n",
       "<tr><td>H2O cluster allowed cores:</td>\n",
       "<td>4</td></tr>\n",
       "<tr><td>H2O cluster status:</td>\n",
       "<td>locked, healthy</td></tr>\n",
       "<tr><td>H2O connection url:</td>\n",
       "<td>http://localhost:54321</td></tr>\n",
       "<tr><td>H2O connection proxy:</td>\n",
       "<td>None</td></tr>\n",
       "<tr><td>H2O internal security:</td>\n",
       "<td>False</td></tr>\n",
       "<tr><td>H2O API Extensions:</td>\n",
       "<td>XGBoost, Algos, AutoML, Core V3, Core V4</td></tr>\n",
       "<tr><td>Python version:</td>\n",
       "<td>3.6.5 final</td></tr></table></div>"
      ],
      "text/plain": [
       "--------------------------  ----------------------------------------\n",
       "H2O cluster uptime:         2 hours 15 mins\n",
       "H2O cluster timezone:       America/New_York\n",
       "H2O data parsing timezone:  UTC\n",
       "H2O cluster version:        3.22.0.2\n",
       "H2O cluster version age:    6 days\n",
       "H2O cluster name:           H2O_from_python_G_nybnsb\n",
       "H2O cluster total nodes:    1\n",
       "H2O cluster free memory:    915 Mb\n",
       "H2O cluster total cores:    4\n",
       "H2O cluster allowed cores:  4\n",
       "H2O cluster status:         locked, healthy\n",
       "H2O connection url:         http://localhost:54321\n",
       "H2O connection proxy:\n",
       "H2O internal security:      False\n",
       "H2O API Extensions:         XGBoost, Algos, AutoML, Core V3, Core V4\n",
       "Python version:             3.6.5 final\n",
       "--------------------------  ----------------------------------------"
      ]
     },
     "metadata": {},
     "output_type": "display_data"
    }
   ],
   "source": [
    "import h2o\n",
    "from h2o.automl import H2OAutoML\n",
    "h2o.init()"
   ]
  },
  {
   "cell_type": "markdown",
   "metadata": {},
   "source": [
    "##### Use Q1 as training data and Q2 as testing data."
   ]
  },
  {
   "cell_type": "code",
   "execution_count": 2,
   "metadata": {},
   "outputs": [
    {
     "name": "stdout",
     "output_type": "stream",
     "text": [
      "Parse progress: |█████████████████████████████████████████████████████████| 100%\n",
      "Parse progress: |█████████████████████████████████████████████████████████| 100%\n"
     ]
    }
   ],
   "source": [
    "train = h2o.import_file(\"train_h2o.csv\")\n",
    "test = h2o.import_file(\"test_h2o.csv\")"
   ]
  },
  {
   "cell_type": "code",
   "execution_count": 3,
   "metadata": {},
   "outputs": [],
   "source": [
    "y = \"Interest_Rate\""
   ]
  },
  {
   "cell_type": "code",
   "execution_count": 4,
   "metadata": {},
   "outputs": [
    {
     "name": "stdout",
     "output_type": "stream",
     "text": [
      "AutoML progress: |████████████████████████████████████████████████████████| 100%\n"
     ]
    }
   ],
   "source": [
    "aml = H2OAutoML(seed = 1, project_name = \"assignment_3_h2o\")\n",
    "aml.train(y = y, training_frame = train, leaderboard_frame = test)"
   ]
  },
  {
   "cell_type": "code",
   "execution_count": 5,
   "metadata": {},
   "outputs": [
    {
     "data": {
      "text/html": [
       "<table>\n",
       "<thead>\n",
       "<tr><th>model_id                                           </th><th style=\"text-align: right;\">  mean_residual_deviance</th><th style=\"text-align: right;\">    rmse</th><th style=\"text-align: right;\">      mse</th><th style=\"text-align: right;\">     mae</th><th style=\"text-align: right;\">    rmsle</th></tr>\n",
       "</thead>\n",
       "<tbody>\n",
       "<tr><td>StackedEnsemble_BestOfFamily_AutoML_20181129_024605</td><td style=\"text-align: right;\">               0.0906221</td><td style=\"text-align: right;\">0.301035</td><td style=\"text-align: right;\">0.0906221</td><td style=\"text-align: right;\">0.230991</td><td style=\"text-align: right;\">0.0443374</td></tr>\n",
       "<tr><td>StackedEnsemble_AllModels_AutoML_20181129_024605   </td><td style=\"text-align: right;\">               0.0906221</td><td style=\"text-align: right;\">0.301035</td><td style=\"text-align: right;\">0.0906221</td><td style=\"text-align: right;\">0.230991</td><td style=\"text-align: right;\">0.0443374</td></tr>\n",
       "<tr><td>XRT_1_AutoML_20181129_024605                       </td><td style=\"text-align: right;\">               0.0924068</td><td style=\"text-align: right;\">0.303985</td><td style=\"text-align: right;\">0.0924068</td><td style=\"text-align: right;\">0.233159</td><td style=\"text-align: right;\">0.0447719</td></tr>\n",
       "<tr><td>DRF_1_AutoML_20181129_024605                       </td><td style=\"text-align: right;\">               0.0939478</td><td style=\"text-align: right;\">0.306509</td><td style=\"text-align: right;\">0.0939478</td><td style=\"text-align: right;\">0.235459</td><td style=\"text-align: right;\">0.0451614</td></tr>\n",
       "<tr><td>DRF_1_AutoML_20181129_042418                       </td><td style=\"text-align: right;\">               0.0940282</td><td style=\"text-align: right;\">0.30664 </td><td style=\"text-align: right;\">0.0940282</td><td style=\"text-align: right;\">0.235614</td><td style=\"text-align: right;\">0.0451782</td></tr>\n",
       "<tr><td>DRF_1_AutoML_20181129_042500                       </td><td style=\"text-align: right;\">               0.0940766</td><td style=\"text-align: right;\">0.306719</td><td style=\"text-align: right;\">0.0940766</td><td style=\"text-align: right;\">0.235646</td><td style=\"text-align: right;\">0.0451898</td></tr>\n",
       "<tr><td>GLM_grid_1_AutoML_20181129_024605_model_1          </td><td style=\"text-align: right;\">               0.0950989</td><td style=\"text-align: right;\">0.308381</td><td style=\"text-align: right;\">0.0950989</td><td style=\"text-align: right;\">0.235229</td><td style=\"text-align: right;\">0.0452053</td></tr>\n",
       "</tbody>\n",
       "</table>"
      ]
     },
     "metadata": {},
     "output_type": "display_data"
    },
    {
     "data": {
      "text/plain": []
     },
     "execution_count": 5,
     "metadata": {},
     "output_type": "execute_result"
    }
   ],
   "source": [
    "aml.leaderboard.head()"
   ]
  },
  {
   "cell_type": "code",
   "execution_count": 6,
   "metadata": {},
   "outputs": [
    {
     "name": "stdout",
     "output_type": "stream",
     "text": [
      "stackedensemble prediction progress: |████████████████████████████████████| 100%\n"
     ]
    },
    {
     "data": {
      "text/html": [
       "<table>\n",
       "<thead>\n",
       "<tr><th style=\"text-align: right;\">  predict</th></tr>\n",
       "</thead>\n",
       "<tbody>\n",
       "<tr><td style=\"text-align: right;\">  5.7886 </td></tr>\n",
       "<tr><td style=\"text-align: right;\">  5.77839</td></tr>\n",
       "<tr><td style=\"text-align: right;\">  5.79354</td></tr>\n",
       "<tr><td style=\"text-align: right;\">  5.77005</td></tr>\n",
       "<tr><td style=\"text-align: right;\">  5.91066</td></tr>\n",
       "<tr><td style=\"text-align: right;\">  5.88596</td></tr>\n",
       "<tr><td style=\"text-align: right;\">  5.84118</td></tr>\n",
       "<tr><td style=\"text-align: right;\">  5.83156</td></tr>\n",
       "<tr><td style=\"text-align: right;\">  5.88919</td></tr>\n",
       "<tr><td style=\"text-align: right;\">  5.90307</td></tr>\n",
       "</tbody>\n",
       "</table>"
      ]
     },
     "metadata": {},
     "output_type": "display_data"
    },
    {
     "data": {
      "text/plain": []
     },
     "execution_count": 6,
     "metadata": {},
     "output_type": "execute_result"
    }
   ],
   "source": [
    "pred = aml.predict(test)\n",
    "pred.head()"
   ]
  },
  {
   "cell_type": "code",
   "execution_count": 7,
   "metadata": {},
   "outputs": [
    {
     "name": "stdout",
     "output_type": "stream",
     "text": [
      "\n",
      "ModelMetricsRegressionGLM: stackedensemble\n",
      "** Reported on test data. **\n",
      "\n",
      "MSE: 0.09062206722153747\n",
      "RMSE: 0.30103499335050315\n",
      "MAE: 0.23099075760032312\n",
      "RMSLE: 0.044337414502309484\n",
      "R^2: 0.2627142578998969\n",
      "Mean Residual Deviance: 0.09062206722153747\n",
      "Null degrees of freedom: 405678\n",
      "Residual degrees of freedom: 405675\n",
      "Null deviance: 56732.94213759017\n",
      "Residual deviance: 36763.4696083661\n",
      "AIC: 177218.51351249518\n"
     ]
    },
    {
     "data": {
      "text/plain": []
     },
     "execution_count": 7,
     "metadata": {},
     "output_type": "execute_result"
    }
   ],
   "source": [
    "perf = aml.leader.model_performance(test)\n",
    "perf"
   ]
  },
  {
   "cell_type": "markdown",
   "metadata": {},
   "source": [
    "##### Use cross-validated metrics."
   ]
  },
  {
   "cell_type": "code",
   "execution_count": 8,
   "metadata": {},
   "outputs": [
    {
     "name": "stdout",
     "output_type": "stream",
     "text": [
      "Parse progress: |█████████████████████████████████████████████████████████| 100%\n"
     ]
    }
   ],
   "source": [
    "df =  h2o.import_file(\"train_h2o.csv\")"
   ]
  },
  {
   "cell_type": "code",
   "execution_count": 9,
   "metadata": {},
   "outputs": [],
   "source": [
    "splits = df.split_frame(ratios = [0.8], seed = 1)\n",
    "training = splits[0]\n",
    "testing = splits[1]"
   ]
  },
  {
   "cell_type": "code",
   "execution_count": 10,
   "metadata": {},
   "outputs": [
    {
     "name": "stdout",
     "output_type": "stream",
     "text": [
      "AutoML progress: |████████████████████████████████████████████████████████| 100%\n"
     ]
    }
   ],
   "source": [
    "aml2 = H2OAutoML(seed = 1, project_name = \"Q1_cross_validated\")\n",
    "aml2.train(y = y, training_frame = df)"
   ]
  },
  {
   "cell_type": "code",
   "execution_count": 11,
   "metadata": {},
   "outputs": [
    {
     "data": {
      "text/html": [
       "<table>\n",
       "<thead>\n",
       "<tr><th>model_id                                           </th><th style=\"text-align: right;\">  mean_residual_deviance</th><th style=\"text-align: right;\">    rmse</th><th style=\"text-align: right;\">      mse</th><th style=\"text-align: right;\">     mae</th><th style=\"text-align: right;\">    rmsle</th></tr>\n",
       "</thead>\n",
       "<tbody>\n",
       "<tr><td>StackedEnsemble_BestOfFamily_AutoML_20181129_035203</td><td style=\"text-align: right;\">               0.0687883</td><td style=\"text-align: right;\">0.262275</td><td style=\"text-align: right;\">0.0687883</td><td style=\"text-align: right;\">0.193903</td><td style=\"text-align: right;\">0.0391119</td></tr>\n",
       "<tr><td>StackedEnsemble_AllModels_AutoML_20181129_035203   </td><td style=\"text-align: right;\">               0.0687883</td><td style=\"text-align: right;\">0.262275</td><td style=\"text-align: right;\">0.0687883</td><td style=\"text-align: right;\">0.193903</td><td style=\"text-align: right;\">0.0391119</td></tr>\n",
       "<tr><td>DRF_1_AutoML_20181129_035203                       </td><td style=\"text-align: right;\">               0.0692005</td><td style=\"text-align: right;\">0.26306 </td><td style=\"text-align: right;\">0.0692005</td><td style=\"text-align: right;\">0.194522</td><td style=\"text-align: right;\">0.0392329</td></tr>\n",
       "<tr><td>DRF_1_AutoML_20181129_052541                       </td><td style=\"text-align: right;\">               0.0692014</td><td style=\"text-align: right;\">0.263062</td><td style=\"text-align: right;\">0.0692014</td><td style=\"text-align: right;\">0.194519</td><td style=\"text-align: right;\">0.0392334</td></tr>\n",
       "<tr><td>XRT_1_AutoML_20181129_052541                       </td><td style=\"text-align: right;\">               0.0694419</td><td style=\"text-align: right;\">0.263518</td><td style=\"text-align: right;\">0.0694419</td><td style=\"text-align: right;\">0.194954</td><td style=\"text-align: right;\">0.0393203</td></tr>\n",
       "<tr><td>XRT_1_AutoML_20181129_035203                       </td><td style=\"text-align: right;\">               0.0695808</td><td style=\"text-align: right;\">0.263782</td><td style=\"text-align: right;\">0.0695808</td><td style=\"text-align: right;\">0.195153</td><td style=\"text-align: right;\">0.0393598</td></tr>\n",
       "<tr><td>GLM_grid_1_AutoML_20181129_035203_model_1          </td><td style=\"text-align: right;\">               0.0785475</td><td style=\"text-align: right;\">0.280263</td><td style=\"text-align: right;\">0.0785475</td><td style=\"text-align: right;\">0.207376</td><td style=\"text-align: right;\">0.0417873</td></tr>\n",
       "<tr><td>GLM_grid_1_AutoML_20181129_052541_model_1          </td><td style=\"text-align: right;\">               0.0785475</td><td style=\"text-align: right;\">0.280263</td><td style=\"text-align: right;\">0.0785475</td><td style=\"text-align: right;\">0.207376</td><td style=\"text-align: right;\">0.0417873</td></tr>\n",
       "</tbody>\n",
       "</table>"
      ]
     },
     "metadata": {},
     "output_type": "display_data"
    },
    {
     "data": {
      "text/plain": []
     },
     "execution_count": 11,
     "metadata": {},
     "output_type": "execute_result"
    }
   ],
   "source": [
    "aml2.leaderboard.head()"
   ]
  },
  {
   "cell_type": "code",
   "execution_count": 12,
   "metadata": {},
   "outputs": [
    {
     "name": "stdout",
     "output_type": "stream",
     "text": [
      "\n",
      "ModelMetricsRegressionGLM: stackedensemble\n",
      "** Reported on test data. **\n",
      "\n",
      "MSE: 0.04969705340454395\n",
      "RMSE: 0.22292835935462305\n",
      "MAE: 0.16750499838322996\n",
      "RMSLE: 0.03335339367770484\n",
      "R^2: 0.629109086591956\n",
      "Mean Residual Deviance: 0.04969705340454395\n",
      "Null degrees of freedom: 70133\n",
      "Residual degrees of freedom: 70130\n",
      "Null deviance: 9397.803624026541\n",
      "Residual deviance: 3485.4531434742858\n",
      "AIC: -11487.246784618035\n"
     ]
    },
    {
     "data": {
      "text/plain": []
     },
     "execution_count": 12,
     "metadata": {},
     "output_type": "execute_result"
    }
   ],
   "source": [
    "perf = aml2.leader.model_performance(testing)\n",
    "perf"
   ]
  }
 ],
 "metadata": {
  "kernelspec": {
   "display_name": "Python 3",
   "language": "python",
   "name": "python3"
  },
  "language_info": {
   "codemirror_mode": {
    "name": "ipython",
    "version": 3
   },
   "file_extension": ".py",
   "mimetype": "text/x-python",
   "name": "python",
   "nbconvert_exporter": "python",
   "pygments_lexer": "ipython3",
   "version": "3.6.5"
  }
 },
 "nbformat": 4,
 "nbformat_minor": 2
}
