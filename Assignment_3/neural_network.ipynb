{
 "cells": [
  {
   "cell_type": "code",
   "execution_count": 0,
   "metadata": {
    "colab": {
     "base_uri": "https://localhost:8080/",
     "height": 124
    },
    "colab_type": "code",
    "executionInfo": {
     "elapsed": 50414,
     "status": "ok",
     "timestamp": 1543349995229,
     "user": {
      "displayName": "Wensong Liu",
      "photoUrl": "",
      "userId": "15493594991023268315"
     },
     "user_tz": 300
    },
    "id": "tCYWi5gO0xEJ",
    "outputId": "e0a583be-b586-43aa-e7c7-ed89572cf479"
   },
   "outputs": [
    {
     "name": "stdout",
     "output_type": "stream",
     "text": [
      "Go to this URL in a browser: https://accounts.google.com/o/oauth2/auth?client_id=947318989803-6bn6qk8qdgf4n4g3pfee6491hc0brc4i.apps.googleusercontent.com&redirect_uri=urn%3Aietf%3Awg%3Aoauth%3A2.0%3Aoob&scope=email%20https%3A%2F%2Fwww.googleapis.com%2Fauth%2Fdocs.test%20https%3A%2F%2Fwww.googleapis.com%2Fauth%2Fdrive%20https%3A%2F%2Fwww.googleapis.com%2Fauth%2Fdrive.photos.readonly%20https%3A%2F%2Fwww.googleapis.com%2Fauth%2Fpeopleapi.readonly&response_type=code\n",
      "\n",
      "Enter your authorization code:\n",
      "··········\n",
      "Mounted at /content/drive\n"
     ]
    }
   ],
   "source": [
    "from google.colab import drive\n",
    "drive.mount('/content/drive')"
   ]
  },
  {
   "cell_type": "code",
   "execution_count": 0,
   "metadata": {
    "colab": {},
    "colab_type": "code",
    "id": "_UaMqgpz0vmy"
   },
   "outputs": [],
   "source": [
    "import pandas as pd\n",
    "import numpy as np\n",
    "from sklearn.neural_network import MLPRegressor\n",
    "from sklearn.preprocessing import StandardScaler  \n",
    "import matplotlib.pyplot as plt\n",
    "from sklearn.metrics import mean_squared_error\n",
    "from sklearn.metrics import r2_score\n",
    "from sklearn.metrics import mean_absolute_error\n",
    "from sklearn import preprocessing"
   ]
  },
  {
   "cell_type": "code",
   "execution_count": 0,
   "metadata": {
    "colab": {},
    "colab_type": "code",
    "id": "BDhaVUIx0vm6"
   },
   "outputs": [],
   "source": [
    "X_training = pd.read_csv(\"drive/My Drive/7390_Assignment_3/X_training.csv\")\n",
    "y_training = pd.read_csv(\"drive/My Drive/7390_Assignment_3/y_training.csv\", header = None)\n",
    "X_testing = pd.read_csv(\"drive/My Drive/7390_Assignment_3/X_testing.csv\")\n",
    "y_testing = pd.read_csv(\"drive/My Drive/7390_Assignment_3/y_testing.csv\", header = None)"
   ]
  },
  {
   "cell_type": "code",
   "execution_count": 0,
   "metadata": {
    "colab": {},
    "colab_type": "code",
    "id": "rkHw20iQ7pqt"
   },
   "outputs": [],
   "source": [
    "def cal_errors(y_testing,y_pred):\n",
    "    mae = mean_absolute_error(y_testing, y_pred)\n",
    "    rms = mean_squared_error(y_testing, y_pred)\n",
    "    r2 = r2_score(y_testing, y_pred)\n",
    "    mape = mean_absolute_percentage_error(y_testing, y_pred)\n",
    "    print('MAE = {}, RMS = {}, R2 = {}, MAPE = {}'.format(mae,rms,r2,mape))"
   ]
  },
  {
   "cell_type": "code",
   "execution_count": 0,
   "metadata": {
    "colab": {},
    "colab_type": "code",
    "id": "LuAJ4XSu_KAM"
   },
   "outputs": [],
   "source": [
    "def mean_absolute_percentage_error(y_true, y_pred): \n",
    "    y_true, y_pred = np.array(y_true), np.array(y_pred)\n",
    "    return np.mean(np.abs((y_true - y_pred) / y_true)) * 100"
   ]
  },
  {
   "cell_type": "code",
   "execution_count": 0,
   "metadata": {
    "colab": {},
    "colab_type": "code",
    "id": "NE7iF4n4-IJF"
   },
   "outputs": [],
   "source": [
    "def scaler(dataset):\n",
    "    min_max_scaler = preprocessing.MinMaxScaler(feature_range=( 0, 1))"
   ]
  },
  {
   "cell_type": "code",
   "execution_count": 0,
   "metadata": {
    "colab": {},
    "colab_type": "code",
    "id": "O8YFF50t-8Gf"
   },
   "outputs": [],
   "source": [
    "scaler(X_training)\n",
    "scaler(y_training)\n",
    "scaler(X_testing)\n",
    "scaler(y_testing)"
   ]
  },
  {
   "cell_type": "code",
   "execution_count": 0,
   "metadata": {
    "colab": {},
    "colab_type": "code",
    "id": "xZfojrU80vm9"
   },
   "outputs": [],
   "source": [
    "scaler_1 = StandardScaler()\n",
    "scaler_1.fit(X_training)\n",
    "X_training = scaler_1.transform(X_training)"
   ]
  },
  {
   "cell_type": "code",
   "execution_count": 0,
   "metadata": {
    "colab": {},
    "colab_type": "code",
    "id": "nt6i7Ln_0vnA"
   },
   "outputs": [],
   "source": [
    "scaler_2 = StandardScaler()\n",
    "scaler_2.fit(X_testing)\n",
    "X_testing = scaler_2.transform(X_testing)"
   ]
  },
  {
   "cell_type": "code",
   "execution_count": null,
   "metadata": {},
   "outputs": [],
   "source": [
    "hidden_layer_size_1 = [87,44]\n",
    "hidden_layer_size_2 = [88,70,50,30,10]\n",
    "hidden_layer_size_3 = [88,80,70,60,50,40,30,20,10]\n",
    "hidden = [hidden_layer_size_1,hidden_layer_size_2,hidden_layer_size_3]"
   ]
  },
  {
   "cell_type": "code",
   "execution_count": 0,
   "metadata": {
    "colab": {},
    "colab_type": "code",
    "id": "JdSvU7od0vnD"
   },
   "outputs": [],
   "source": [
    "def nn_modeling(X_training, y_training, X_testing, y_testing):\n",
    "    for hidden_size in hidden:\n",
    "        reg = MLPRegressor(solver='adam', alpha=1e-5, hidden_layer_sizes=hidden_size, random_state =1)\n",
    "        reg.fit(X_training, y_training)\n",
    "        y_pred = reg.predict(X_testing)\n",
    "        cal_errors(y_testing,y_pred)"
   ]
  },
  {
   "cell_type": "code",
   "execution_count": 10,
   "metadata": {
    "colab": {
     "base_uri": "https://localhost:8080/",
     "height": 193
    },
    "colab_type": "code",
    "executionInfo": {
     "elapsed": 60962,
     "status": "ok",
     "timestamp": 1543354350528,
     "user": {
      "displayName": "Wensong Liu",
      "photoUrl": "",
      "userId": "15493594991023268315"
     },
     "user_tz": 300
    },
    "id": "VI58h9480vnH",
    "outputId": "0ed932d8-ecab-40e0-bc13-294633be6ff9"
   },
   "outputs": [
    {
     "name": "stderr",
     "output_type": "stream",
     "text": [
      "/usr/local/lib/python3.6/dist-packages/sklearn/neural_network/multilayer_perceptron.py:1306: DataConversionWarning: A column-vector y was passed when a 1d array was expected. Please change the shape of y to (n_samples, ), for example using ravel().\n",
      "  y = column_or_1d(y, warn=True)\n"
     ]
    },
    {
     "data": {
      "text/plain": [
       "MLPRegressor(activation='relu', alpha=1e-05, batch_size='auto', beta_1=0.9,\n",
       "       beta_2=0.999, early_stopping=False, epsilon=1e-08,\n",
       "       hidden_layer_sizes=(44,), learning_rate='constant',\n",
       "       learning_rate_init=0.001, max_iter=200, momentum=0.9,\n",
       "       nesterovs_momentum=True, power_t=0.5, random_state=1, shuffle=True,\n",
       "       solver='adam', tol=0.0001, validation_fraction=0.1, verbose=False,\n",
       "       warm_start=False)"
      ]
     },
     "execution_count": 10,
     "metadata": {
      "tags": []
     },
     "output_type": "execute_result"
    }
   ],
   "source": [
    "def make_polynomial_regressor(hidden,dgr = 1):\n",
    "    return make_pipeline(PolynomialFeatures(degree=dgr),\n",
    "                        MLPRegressor(solver='adam',\n",
    "                        alpha=1e-5, \n",
    "                        hidden_layer_sizes=hidden, \n",
    "                        random_state =1))"
   ]
  },
  {
   "cell_type": "code",
   "execution_count": 0,
   "metadata": {
    "colab": {},
    "colab_type": "code",
    "id": "u5J8sdul0vnJ"
   },
   "outputs": [],
   "source": [
    "def nn_polynomial(X_training, y_training, X_testing, y_testing):\n",
    "    for hidden_size in hidden:\n",
    "        for d in range(3):\n",
    "            reg = make_polynomial_regressor(hidden=hidden_size,dgr=d)\n",
    "            reg.fit(X_training, y_training)\n",
    "            y_pred = reg.predict(X_testing)\n",
    "            cal_errors(y_testing,y_pred)"
   ]
  },
  {
   "cell_type": "code",
   "execution_count": 0,
   "metadata": {
    "colab": {},
    "colab_type": "code",
    "id": "nIzZJrXb72OW"
   },
   "outputs": [],
   "source": [
    "nn_modeling(X_training, y_training, X_testing, y_testing)"
   ]
  },
  {
   "cell_type": "code",
   "execution_count": 0,
   "metadata": {
    "colab": {},
    "colab_type": "code",
    "id": "6sJzbVLa0vnN"
   },
   "outputs": [],
   "source": [
    "nn_polynomial(X_training, y_training, X_testing, y_testing)"
   ]
  }
 ],
 "metadata": {
  "colab": {
   "collapsed_sections": [],
   "name": "neural_network.ipynb",
   "provenance": [],
   "version": "0.3.2"
  },
  "kernelspec": {
   "display_name": "Python 3",
   "language": "python",
   "name": "python3"
  },
  "language_info": {
   "codemirror_mode": {
    "name": "ipython",
    "version": 3
   },
   "file_extension": ".py",
   "mimetype": "text/x-python",
   "name": "python",
   "nbconvert_exporter": "python",
   "pygments_lexer": "ipython3",
   "version": "3.6.5"
  }
 },
 "nbformat": 4,
 "nbformat_minor": 1
}
