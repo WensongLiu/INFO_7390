{
 "cells": [
  {
   "cell_type": "code",
   "execution_count": null,
   "metadata": {
    "colab": {
     "base_uri": "https://localhost:8080/",
     "height": 124
    },
    "colab_type": "code",
    "executionInfo": {
     "elapsed": 48272,
     "status": "ok",
     "timestamp": 1543306146230,
     "user": {
      "displayName": "Wensong Liu",
      "photoUrl": "",
      "userId": "15493594991023268315"
     },
     "user_tz": 300
    },
    "id": "fXZ8CcPqNhG8",
    "outputId": "e2f51eb0-ab8a-4828-c820-abb667c44c46"
   },
   "outputs": [],
   "source": [
    "from google.colab import drive\n",
    "drive.mount('/content/drive')"
   ]
  },
  {
   "cell_type": "code",
   "execution_count": null,
   "metadata": {
    "colab": {},
    "colab_type": "code",
    "id": "tsap2PsNNhHA"
   },
   "outputs": [],
   "source": [
    "import pandas as pd\n",
    "import matplotlib.pyplot as plt\n",
    "from sklearn import datasets, linear_model\n",
    "from sklearn.metrics import mean_squared_error, r2_score"
   ]
  },
  {
   "cell_type": "code",
   "execution_count": null,
   "metadata": {
    "colab": {
     "base_uri": "https://localhost:8080/",
     "height": 72
    },
    "colab_type": "code",
    "executionInfo": {
     "elapsed": 8927,
     "status": "ok",
     "timestamp": 1543322515073,
     "user": {
      "displayName": "Wensong Liu",
      "photoUrl": "",
      "userId": "15493594991023268315"
     },
     "user_tz": 300
    },
    "id": "FuZZWNvLNhHC",
    "outputId": "e81b2c6c-4e66-46f5-a33a-4227c30678c7"
   },
   "outputs": [],
   "source": [
    "X_training = pd.read_csv(\"drive/My Drive/7390_Assignment_3/X_training.csv\").values\n",
    "y_training = pd.read_csv(\"drive/My Drive/7390_Assignment_3/y_training.csv\",header = None).values\n",
    "X_testing = pd.read_csv(\"drive/My Drive/7390_Assignment_3/X_testing.csv\").values\n",
    "y_testing = pd.read_csv(\"drive/My Drive/7390_Assignment_3/y_testing.csv\",header = None).values"
   ]
  },
  {
   "cell_type": "code",
   "execution_count": null,
   "metadata": {
    "colab": {},
    "colab_type": "code",
    "id": "k7ICVzwmNhHF"
   },
   "outputs": [],
   "source": [
    "regr = linear_model.LinearRegression()"
   ]
  },
  {
   "cell_type": "code",
   "execution_count": null,
   "metadata": {
    "colab": {
     "base_uri": "https://localhost:8080/",
     "height": 551
    },
    "colab_type": "code",
    "executionInfo": {
     "elapsed": 10212,
     "status": "error",
     "timestamp": 1543322516392,
     "user": {
      "displayName": "Wensong Liu",
      "photoUrl": "",
      "userId": "15493594991023268315"
     },
     "user_tz": 300
    },
    "id": "c9MMDu6UNhHH",
    "outputId": "feef14c1-cc8b-4c3d-b398-58bb104f2242"
   },
   "outputs": [],
   "source": [
    "regr.fit(X_training, y_training)"
   ]
  },
  {
   "cell_type": "code",
   "execution_count": null,
   "metadata": {
    "colab": {},
    "colab_type": "code",
    "id": "BNctKU1eNhHK"
   },
   "outputs": [],
   "source": [
    "y_pred = regr.predict(X_testing)"
   ]
  },
  {
   "cell_type": "code",
   "execution_count": null,
   "metadata": {
    "colab": {},
    "colab_type": "code",
    "id": "5W6G8FMWNhHN"
   },
   "outputs": [],
   "source": [
    "print('Coefficients: \\n', regr.coef_)\n",
    "# The mean squared error\n",
    "print(\"Mean squared error: %.2f\" % mean_squared_error(y_testing, y_pred))\n",
    "# Explained variance score: 1 is perfect prediction\n",
    "print('Variance score: %.2f' % r2_score(y_testing, y_pred))\n",
    "\n",
    "# Plot outputs\n",
    "#plt.plot(X_test, Y_pred, color='blue', linewidth=1)\n",
    "plt.figure(figsize=(10,10))\n",
    "plt.plot(np.arange(len(y_pred)), np.sort(y_pred), color='blue', linewidth=1)\n",
    "\n",
    "plt.plot(np.arange(len(y_testing)), np.sort(y_testing), color='red', linewidth=1)\n",
    "\n",
    "plt.xticks(())\n",
    "plt.yticks(())\n",
    "\n",
    "plt.show()"
   ]
  }
 ],
 "metadata": {
  "colab": {
   "name": "linear_model.ipynb",
   "provenance": [],
   "version": "0.3.2"
  },
  "kernelspec": {
   "display_name": "Python 3",
   "language": "python",
   "name": "python3"
  },
  "language_info": {
   "codemirror_mode": {
    "name": "ipython",
    "version": 3
   },
   "file_extension": ".py",
   "mimetype": "text/x-python",
   "name": "python",
   "nbconvert_exporter": "python",
   "pygments_lexer": "ipython3",
   "version": "3.6.5"
  }
 },
 "nbformat": 4,
 "nbformat_minor": 1
}
