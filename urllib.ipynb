{
 "cells": [
  {
   "cell_type": "markdown",
   "metadata": {},
   "source": [
    "import urllib.request\n",
    "import re\n",
    "import ssl\n",
    "from bs4 import BeautifulSoup\n",
    "\n",
    "CIK = '51143'\n",
    "acc_no = '000005114313000007/0000051143-13-000007'\n",
    "html_tail = '-index.html‘\n",
    "url_company = \"http://www.sec.gov/Archives/edgar/data/\"+CIK+\"/\"+acc_no+html_tail\n",
    "\n",
    "context = ssl._create_unverified_context()\n",
    "response = urllib.request.urlopen(url_company,context=context)"
   ]
  },
  {
   "cell_type": "code",
   "execution_count": 4,
   "metadata": {},
   "outputs": [],
   "source": [
    "res_10q = r'/Archives[\\S]+10q.htm\"'\n",
    "lst = re.findall(res_10q,response.read().decode('utf-8'))"
   ]
  },
  {
   "cell_type": "code",
   "execution_count": 5,
   "metadata": {},
   "outputs": [],
   "source": [
    "url_10q = lst[0]"
   ]
  },
  {
   "cell_type": "code",
   "execution_count": 6,
   "metadata": {},
   "outputs": [],
   "source": [
    "length = len(url_10q)\n",
    "url_10q = url_10q[0:length-1]"
   ]
  },
  {
   "cell_type": "code",
   "execution_count": 7,
   "metadata": {},
   "outputs": [],
   "source": [
    "url_10q = \"https://www.sec.gov\" + url_10q"
   ]
  },
  {
   "cell_type": "code",
   "execution_count": 8,
   "metadata": {},
   "outputs": [
    {
     "data": {
      "text/plain": [
       "'https://www.sec.gov/Archives/edgar/data/51143/000005114313000007/ibm13q3_10q.htm'"
      ]
     },
     "execution_count": 8,
     "metadata": {},
     "output_type": "execute_result"
    }
   ],
   "source": [
    "url_10q"
   ]
  },
  {
   "cell_type": "code",
   "execution_count": 147,
   "metadata": {},
   "outputs": [],
   "source": [
    "response2 = urllib.request.urlopen(url_10q,context=context)\n",
    "soup = BeautifulSoup(response2)\n",
    "html_page = response2.read().decode('utf-8')"
   ]
  },
  {
   "cell_type": "code",
   "execution_count": 32,
   "metadata": {},
   "outputs": [],
   "source": [
    "reg_table = r'<table.*?</table>'\n",
    "pattern_table = re.compile(reg_table,re.S)\n",
    "table_lst = pattern_table.findall(html_page)"
   ]
  },
  {
   "cell_type": "code",
   "execution_count": 40,
   "metadata": {},
   "outputs": [],
   "source": [
    "reg_tr = r'<tr.*?</tr>'\n",
    "pattern_tr = re.compile(reg_tr,re.S)\n",
    "tr_lst = pattern_tr.findall(table_lst[10])"
   ]
  },
  {
   "cell_type": "code",
   "execution_count": 62,
   "metadata": {},
   "outputs": [],
   "source": [
    "table = soup.select"
   ]
  },
  {
   "cell_type": "code",
   "execution_count": 63,
   "metadata": {},
   "outputs": [
    {
     "data": {
      "text/plain": [
       "112"
      ]
     },
     "execution_count": 63,
     "metadata": {},
     "output_type": "execute_result"
    }
   ],
   "source": [
    "len(table)"
   ]
  },
  {
   "cell_type": "code",
   "execution_count": 87,
   "metadata": {},
   "outputs": [
    {
     "data": {
      "text/plain": [
       "'\\n160\\n'"
      ]
     },
     "execution_count": 87,
     "metadata": {},
     "output_type": "execute_result"
    }
   ],
   "source": [
    "type(table)\n",
    "tr = table[10].findAll(\"tr\")\n",
    "td = tr[10].findAll(\"td\")\n",
    "td[13].text\n",
    "a = td[13].text\n",
    "a"
   ]
  },
  {
   "cell_type": "code",
   "execution_count": 148,
   "metadata": {
    "scrolled": false
   },
   "outputs": [],
   "source": [
    "sel = 'body > document > type > sequence > filename > description > text > div:nth-of-type(54) > table > tr'\n",
    "sel2= 'body > document > type > sequence > filename > description > text > div:nth-of-type(54) > div:nth-of-type(3) > table'\n",
    "table = soup.select(sel)"
   ]
  },
  {
   "cell_type": "code",
   "execution_count": 149,
   "metadata": {},
   "outputs": [
    {
     "data": {
      "text/plain": [
       "0"
      ]
     },
     "execution_count": 149,
     "metadata": {},
     "output_type": "execute_result"
    }
   ],
   "source": [
    "len(table)"
   ]
  },
  {
   "cell_type": "code",
   "execution_count": 144,
   "metadata": {
    "scrolled": false
   },
   "outputs": [],
   "source": [
    "for row in table:\n",
    "    for td in row.find_all('td'):\n",
    "        out = td.text.replace('\\n','')\n",
    "        if out != ' ':\n",
    "            print(\"line: \"+out)\n",
    "    print('********************************')\n",
    "    "
   ]
  },
  {
   "cell_type": "code",
   "execution_count": null,
   "metadata": {},
   "outputs": [],
   "source": [
    "import csv\n",
    "with open(\"test.csv\",\"w\") as csvfile\n",
    "    writer = csv.writer(csvfile)\n",
    "    writer.writerow([])"
   ]
  }
 ],
 "metadata": {
  "kernelspec": {
   "display_name": "Python 3",
   "language": "python",
   "name": "python3"
  },
  "language_info": {
   "codemirror_mode": {
    "name": "ipython",
    "version": 3
   },
   "file_extension": ".py",
   "mimetype": "text/x-python",
   "name": "python",
   "nbconvert_exporter": "python",
   "pygments_lexer": "ipython3",
   "version": "3.6.5"
  }
 },
 "nbformat": 4,
 "nbformat_minor": 2
}
